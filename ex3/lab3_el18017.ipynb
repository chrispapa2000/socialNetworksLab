{
 "cells": [
  {
   "cell_type": "markdown",
   "id": "0e4aadc5",
   "metadata": {},
   "source": [
    "<html><font size=6><B>3η εργαστηριακή άσκηση</B><BR>\n",
    "    <BR><B>Link prediction - Πρόβλεψη συνδέσμων</B></BR>\n",
    "    </font></html>"
   ]
  },
  {
   "cell_type": "markdown",
   "id": "4845ed9b",
   "metadata": {},
   "source": [
    "<html><font size=4><B>1. Κατασκευή γράφου και προεργασία για την πρόβλεψη συνδέσμων</B></font>\n",
    "    <li><B>1(i).</B> Χρησιμοποιήστε το dataset <a href=\"http://konect.cc/networks/dbpedia-similar/\"> Similarities (DBpedia)</a>, για να κατασκευάσετε τον μη κατευθυνόμενο (undirected) γράφο $G$ <a href=\"https://dl.acm.org/doi/10.1145/2487788.2488173\">[1]</a>,<a href=\"https://link.springer.com/chapter/10.1007/978-3-540-76298-0_52\">[2]</a>. Οι κόμβοι του γράφου αναπαριστούν σελίδες της Wikipedia και οι ακμές σχέση ομοιότητας μεταξύ τους. Στην σελίδα <a href=\"http://konect.cc/networks/dbpedia-similar/\"> KONECT (DBpedia)</a> μπορείτε να βρείτε πληροφορίες για τις ιδιότητες του γράφου.</a><BR>\n",
    "        <B><U>Υπόδειξη:</U></B> Μπορείτε να ελέγξετε προγραμματιστικά αν το dataset περιέχει διπλότυπα των ακμών με την ίδια ή αντίστροφη σειρά (π.χ. ακμές (a,b) και (b,a)), και να λάβετε υπ' όψιν σας αυτήν σας την παρατήρηση, όπου τυχόν χρειαστεί, στην ερώτηση 2.<BR></html>"
   ]
  },
  {
   "cell_type": "code",
   "execution_count": 1,
   "id": "1811a14c",
   "metadata": {},
   "outputs": [],
   "source": [
    "%matplotlib inline\n",
    "import matplotlib\n",
    "import networkx as nx\n",
    "import random\n",
    "import matplotlib.pyplot as plt\n",
    "import numpy as np\n",
    "import scipy as sp\n",
    "from sklearn.cluster import SpectralClustering\n",
    "import statistics\n",
    "from IPython.display import display, Markdown, Latex\n",
    "import time"
   ]
  },
  {
   "cell_type": "code",
   "execution_count": 2,
   "id": "744fcc69",
   "metadata": {},
   "outputs": [],
   "source": [
    "G = nx.read_edgelist(\"dbpedia-similar/out.dbpedia-similar\",create_using=nx.Graph())\n",
    "\n",
    "# remove self loops \n",
    "G_edges = [edge for edge in G.edges]\n",
    "for (a,b) in G_edges:\n",
    "    if a == b:\n",
    "        G.remove_edge(a,b)\n",
    "\n",
    "G_new = nx.Graph()\n",
    "G_new.add_nodes_from([int(node)-1 for node in G.nodes])\n",
    "G_new.add_edges_from([(int(a)-1, int(b)-1) for (a,b) in G.edges])\n",
    "G = G_new.copy()"
   ]
  },
  {
   "cell_type": "markdown",
   "id": "851cc27f",
   "metadata": {},
   "source": [
    " <li><B>1(ii).</B> Εμφανίστε τον αριθμό των κόμβων, τον αριθμό των ακμών, τον μέσο βαθμό των κόμβων και τον αριθμό των συνεκτικών συνιστωσών (connected components) για τον γράφο $G$.</li><BR>"
   ]
  },
  {
   "cell_type": "code",
   "execution_count": 3,
   "id": "9a1416db",
   "metadata": {},
   "outputs": [],
   "source": [
    "def mean_degree(G):\n",
    "    degs = G.degree\n",
    "    degrees = [b for (a,b) in degs]\n",
    "    return statistics.mean(degrees)\n",
    "    "
   ]
  },
  {
   "cell_type": "code",
   "execution_count": 4,
   "id": "50b7f9a9",
   "metadata": {},
   "outputs": [],
   "source": [
    "initial_node_count = len(G.nodes)       #uncomment and complete\n",
    "initial_edges_count = len(G.edges)\n",
    "initial_connected_components = nx.connected_components(G) #uncomment and complete\n",
    "initial_connected_components_count = len([item for item in initial_connected_components])"
   ]
  },
  {
   "cell_type": "code",
   "execution_count": 5,
   "id": "0a94dc92",
   "metadata": {},
   "outputs": [
    {
     "name": "stdout",
     "output_type": "stream",
     "text": [
      "initial number of nodes: 430\n",
      "initial number of edges: 564\n",
      "initial number of connected components :95\n",
      "mean degree: 2.6232558139534885\n"
     ]
    }
   ],
   "source": [
    "print(f\"initial number of nodes: {initial_node_count}\")\n",
    "print(f\"initial number of edges: {initial_edges_count}\")\n",
    "print(f\"initial number of connected components :{initial_connected_components_count}\")\n",
    "print(f\"mean degree: {mean_degree(G)}\")"
   ]
  },
  {
   "cell_type": "markdown",
   "id": "4d87583c",
   "metadata": {},
   "source": [
    "<li><B>1(iii). </B>Υπολογίστε το σύνολο των ασύνδετων ζευγών κόμβων (unconnected pairs) στον γράφο χρησιμοποιώντας τον πίνακα γειτνίασης (adjacency matrix). Δώστε επίσης τον αριθμό τους. Λάβετε υπ' όψιν σας ότι ο γράφος είναι μη κατευθυνόμενος και δεν χρειάζεται να διατρέξετε ολόκληρο τον πίνακα γειτνίασης.</li><BR>"
   ]
  },
  {
   "cell_type": "code",
   "execution_count": 6,
   "id": "4087dc66",
   "metadata": {},
   "outputs": [
    {
     "name": "stderr",
     "output_type": "stream",
     "text": [
      "<ipython-input-6-393271eef45a>:1: FutureWarning: adjacency_matrix will return a scipy.sparse array instead of a matrix in Networkx 3.0.\n",
      "  initial_adj_matrix = nx.adjacency_matrix(G, [i for i in range(initial_node_count)]).toarray()\n"
     ]
    },
    {
     "name": "stdout",
     "output_type": "stream",
     "text": [
      "initial number of unconnected pairs: 91671\n"
     ]
    }
   ],
   "source": [
    "initial_adj_matrix = nx.adjacency_matrix(G, [i for i in range(initial_node_count)]).toarray()\n",
    "initial_unconnected_count = 0\n",
    "initial_unconnected_pairs = set()\n",
    "for i in range(initial_node_count):\n",
    "    for j in range(i+1,initial_node_count):\n",
    "        if initial_adj_matrix[i][j]!=1:\n",
    "            if (i,j) in G.edges or (j,i) in G.edges:\n",
    "                print(i,j)\n",
    "            initial_unconnected_count+=1\n",
    "            initial_unconnected_pairs.add((i,j))\n",
    "print(f\"initial number of unconnected pairs: {initial_unconnected_count}\")"
   ]
  },
  {
   "cell_type": "markdown",
   "id": "b2e18caa",
   "metadata": {},
   "source": [
    "<li><B>1(iv).</B> Υπολογίστε το σύνολο των ακμών (removable edges) που μπορούν να αφαιρεθούν από τον γράφο χωρίς να υπάρχει κατάτμηση (splitting) του γράφου (δηλ. ο αριθμός των συνεκτικών συνιστωσών θα πρέπει να παραμένει αμετάβλητος). Υπόδειξη: Ελέγχετε επίσης ότι με αφαίρεση ακμής δεν μειώνεται ο αριθμός των κόμβων (εφόσον δεν υπάρχει ξεχωριστό αρχείο μόνο με κόμβους στο dataset). Δώστε επίσης τον αριθμό των ακμών (removable edges) που μπορούν να αφαιρεθούν υπό αυτές τις προϋποθέσεις.</li><BR>"
   ]
  },
  {
   "cell_type": "code",
   "execution_count": 7,
   "id": "95a01ae2",
   "metadata": {},
   "outputs": [
    {
     "name": "stdout",
     "output_type": "stream",
     "text": [
      "removable edges: 229\n"
     ]
    }
   ],
   "source": [
    "# removable edges: check splitting and number of nodes\n",
    "#if ( == initial_connected_components) and ( == initial_node_count): #uncomment and complete (modifications allowed)\n",
    "\n",
    "# make a copy of the graph \n",
    "G_coppied = G.copy()\n",
    "\n",
    "removable_edges_count, removable_edges = 0, set()\n",
    "G_coppied_edges = G_coppied.edges\n",
    "for (a,b) in G_coppied_edges:\n",
    "    G_coppied.remove_edge(a,b)\n",
    "    con_comp = [item for item in nx.connected_components(G_coppied)]\n",
    "    if (len(con_comp) == initial_connected_components_count) and \\\n",
    "    (len(G_coppied.nodes) == initial_node_count):\n",
    "        # if connectivity isn't breached add one to removable edges and continue\n",
    "        removable_edges_count += 1\n",
    "        removable_edges.add((a,b))\n",
    "    else:          \n",
    "        # else if connectivity is breached reinsert the edge\n",
    "        G_coppied.add_edge(a,b)\n",
    "        \n",
    "print(f\"removable edges: {removable_edges_count}\")\n",
    "\n",
    "# put all edges in lexicographical order:\n",
    "\n",
    "def orderLexic(edge):\n",
    "    (a,b) = edge\n",
    "    if b < a:\n",
    "        return (b,a)\n",
    "    return (a,b)\n",
    "\n",
    "removable_edges = [item for item in map(orderLexic, removable_edges)]   "
   ]
  },
  {
   "cell_type": "markdown",
   "id": "c39118e2",
   "metadata": {},
   "source": [
    "<li><B>1(vα).</B> Κατασκευάστε dataframe που συνενώνει τις απαντήσεις των ερωτημάτων 1(iii) και 1(iv) (unconnected+removables). Χρησιμοποιήστε την μεταβλητή $link$ που θα παίρνει τιμή 1 ή 0 ανάλογα με την ύπαρξη συνδέσμου ή μη. To dataframe αυτό συγκεντρώνει τα θετικά και αρνητικά δείγματα για την πρόβλεψη των μελλοντικών συνδέσεων (link: target variable). <BR>\n",
    "    <li><B>1(vβ).</B> Κατασκευάστε τον γράφο $G'$ που προκύπτει από την αφαίρεση από τον γράφο $G$ των ακμών του ερωτήματος 1(iv). <BR>\n",
    "    <li><B>1(vγ).</B> Εμφανίστε τον αριθμό των κόμβων, τον αριθμό των ακμών, τον μέσο βαθμό των κόμβων και τον αριθμό των συνεκτικών συνιστωσών (connected components) για τον γράφο $G'$.</li><BR>"
   ]
  },
  {
   "cell_type": "code",
   "execution_count": 8,
   "id": "baf57c74",
   "metadata": {},
   "outputs": [
    {
     "name": "stdout",
     "output_type": "stream",
     "text": [
      "number of nodes in G': 430\n",
      "number of edges in G': 335\n",
      "mean degree 1.558139534883721\n",
      "number of connected components in G': 95\n"
     ]
    }
   ],
   "source": [
    "import pandas as pd\n",
    "\n",
    "d = dict()\n",
    "\n",
    "#dataframe of removable edges (they will function as positive samples)\n",
    "#...['link'] = 1  #uncomment and complete\n",
    "\n",
    "#dataframe of unconnected node pairs (they will function as negative samples)\n",
    "#...['link'] = 0 # uncomment and complete\n",
    "\n",
    "#merge in one dataframe\n",
    "\n",
    "d['edges'] = [edge for edge in initial_unconnected_pairs] + [edge for edge in removable_edges]\n",
    "d['link'] = [0 for i in range(len(initial_unconnected_pairs))] + [1 for i in range(len(removable_edges))]\n",
    "df_removable_and_unconnected = pd.DataFrame(data = d)\n",
    "\n",
    "#build graph G'=G_reduced\n",
    "G_reduced = G.copy()\n",
    "for (a,b) in removable_edges:\n",
    "    G_reduced.remove_edge(a,b)\n",
    "    \n",
    "print(f\"number of nodes in G': {len(G_reduced.nodes)}\")\n",
    "print(f\"number of edges in G': {len([edge for edge in G_reduced.edges])}\")\n",
    "print(f\"mean degree {mean_degree(G_reduced)}\")\n",
    "print(f\"number of connected components in G': {len([item for item in nx.connected_components(G_reduced)])}\")"
   ]
  },
  {
   "cell_type": "code",
   "execution_count": 9,
   "id": "1577c712",
   "metadata": {},
   "outputs": [],
   "source": [
    "df_removable_and_unconnected = df_removable_and_unconnected.set_index('edges')"
   ]
  },
  {
   "cell_type": "markdown",
   "id": "54a50ed3",
   "metadata": {},
   "source": [
    "<html><font size=4><B>2. Εισαγωγή σε similarity-based μετρικές για Link prediction</B></font><BR><BR>\n",
    "     <li> Η μετρική <B>Jaccard Coefficient (JC)</B> των κόμβων ${u}$ και ${v}$ ορίζεται ως $\\frac{|\\Gamma(u) \\cap \\Gamma(v)|}{|\\Gamma(u) \\cup \\Gamma(v)|}$, όπου ${\\Gamma(u)}$ είναι το σύνολο των γειτονικών κόμβων του κόμβου ${u}$.  <B></B>\n",
    "        <li> Η μετρική <B>Preferential Αttachment (PA)</B> των κόμβων $u$ και $v$ ορίζεται ως $|\\Gamma(u)| |\\Gamma(v)|$, όπου $\\Gamma(u)$ είναι το σύνολο των γειτονικών κόμβων του $u$.</li>\n",
    "        <li> Η μετρική <B>Resource Allocation (RA)</B> των κόμβων $u$ και $v$ ορίζεται ως $\\sum_{w \\in \\Gamma(u) \\cap \\Gamma(v)} \\frac{1}{|\\Gamma(w)|}$, όπου $\\Gamma(u)$ είναι το σύνολο των γειτονικών κόμβων του $u$.</li><BR><BR>\n",
    "    <li><B>2(i).</B> Για τον γράφο $G'$, που κατασκευάσατε στο ερώτημα 1(vβ), υπολογίστε την μετρική <B>Jaccard Coefficient (JC)</B>.  <u><a href=\"https://networkx.org/documentation/stable/reference/algorithms/link_prediction.html?highlight=link%20prediction\">Χρησιμοποιήστε την υλοποιημένη συνάρτηση του λογισμικού NetworkX.<a></u> <BR><BR>\n",
    "    <li><B>2(ii). </B>Δώστε τις $k$ ακμές με την υψηλότερη τιμή μετρικής $JC$, όπου $k$ ο $Α.Μ.$ σας $mod$ $10$. Για $Α.Μ.$ λήγοντα σε $0$ δώστε τις $10$ ακμές με την υψηλότερη τιμή μετρικής.\n",
    "        (Για την σύγκριση μεταξύ διαφορετικών μετρικών προτιμάται η εύρεση των $k$ επικρατέστερων συνδέσμων, αφού οι μετρικές επιστρέφουν διαφορετικό εύρος τιμών.)</li><BR>\n",
    "    <li><B>2(iii). </B>Προσδιορίστε για την μέτρηση της απόδοσης της μετρικής $JC$ τα μεγέθη $Precision$, $Recall$ και $Accuracy$ και αναπαραστήστε τα γραφικά για τιμές κατωφλίου: $0.1$, $0.15$, $0.25$, $0.5$, $1.0$.  <BR><BR>\n",
    "    $Precision=\\frac{TP}{TP+FP}$, όπου $TP$: αληθώς θετικά αποτελέσματα, $FP$: ψευδώς θετικά αποτελέσματα <BR>\n",
    "    $Recall=\\frac{TP}{TP+FN}$, όπου $TP$: αληθώς θετικά αποτελέσματα, $FN$: ψευδώς αρνητικά αποτελέσματα</li> \n",
    "    $Accuracy=\\frac{TP+TN}{TP+FN+TN+FP}$, όπου $TP$: αληθώς θετικά αποτελέσματα, $TN$: αληθώς αρνητικά αποτελέσματα, $FN$: ψευδώς αρνητικά αποτελέσματα, $FP$: ψευδώς θετικά αποτελέσματα</li><BR><BR>\n",
    "        <B><U>Υπόδειξη:</U></B>\n",
    "        Θετικό θεωρήστε ένα αποτέλεσμα, αν η μετρική $JC$ υπερβαίνει μια τιμή κατωφλίου (>=). Αρνητικό θεωρήστε το στην αντίθετη περίπτωση.\n",
    "        <li>Αληθώς θετικά είναι τα αποτελέσματα που βγήκαν θετικά (η τιμή της $JC$ υπερβαίνει την τιμή κατωφλίου) και πράγματι θα υπάρξουν οι συνδέσεις που περιγράφουν (ερ. 1(iv)).</li>\n",
    "        <li>Αληθώς αρνητικά είναι τα αποτελέσματα που βγήκαν αρνητικά και πράγματι δεν θα υπάρξουν οι συνδέσεις που περιγράφουν (ερ. 1(iii)).</li>\n",
    "        <li>Ψευδώς θετικά είναι τα αποτελέσματα που βγήκαν θετικά, ενώ δεν θα υπάρξουν οι συνδέσεις που περιγράφουν.</li>\n",
    "        <li>Ψευδώς αρνητικά είναι τα αποτελέσματα που βγήκαν αρνητικά, ενώ θα υπάρξουν οι συνδέσεις που περιγράφουν.</li>\n",
    "        <li>Το άθροισμα $TN+FP$ πρέπει κάθε φορά να σας δίνει όλες τις ασύνδετες ακμές του γράφου $G$.</li>   \n",
    "<li>Από το ερώτημα 1(iii) οι ακμές που υπολογίσατε είναι αυτές για τις οποίες δεν θα υπάρξουν συνδέσεις.</li> <li>Από το ερώτημα 1(iv) οι ακμές που υπολογίσατε είναι αυτές για τις οποίες θα υπάρξουν συνδέσεις.</li><BR></html>"
   ]
  },
  {
   "cell_type": "code",
   "execution_count": 10,
   "id": "d45a45e7",
   "metadata": {},
   "outputs": [],
   "source": [
    "#def JCfunction(threshold_jc):   #uncomment and complete\n",
    "#return recall_jc, precision_jc, accuracy_jc; #uncomment and complete\n",
    "\n",
    "# k = Α.Μ. mod 10 "
   ]
  },
  {
   "cell_type": "code",
   "execution_count": 11,
   "id": "b36db3db",
   "metadata": {},
   "outputs": [],
   "source": [
    "# calculate jaccard coefficients\n",
    "jc = nx.jaccard_coefficient(G_reduced)\n",
    "jc = [item for item in jc]"
   ]
  },
  {
   "cell_type": "code",
   "execution_count": 12,
   "id": "91edd2b5",
   "metadata": {},
   "outputs": [
    {
     "name": "stdout",
     "output_type": "stream",
     "text": [
      "first 7 edges with largest jaccard coefficient: \n",
      "edge: (3, 45), jaccard coefficient: 1.0 \n",
      "edge: (3, 46), jaccard coefficient: 1.0 \n",
      "edge: (3, 48), jaccard coefficient: 1.0 \n",
      "edge: (22, 33), jaccard coefficient: 1.0 \n",
      "edge: (26, 32), jaccard coefficient: 1.0 \n",
      "edge: (45, 46), jaccard coefficient: 1.0 \n",
      "edge: (45, 48), jaccard coefficient: 1.0 \n"
     ]
    }
   ],
   "source": [
    "# get k edges with largest jc\n",
    "k = 3118017 % 10\n",
    "\n",
    "jc = sorted(jc, key = (lambda item : item[2]), reverse = True)\n",
    "\n",
    "print(f\"first {k} edges with largest jaccard coefficient: \")\n",
    "for i in range(k):\n",
    "    item = jc[i]\n",
    "    print(f\"edge: {item[:2]}, jaccard coefficient: {item[2]} \")\n",
    "    "
   ]
  },
  {
   "cell_type": "code",
   "execution_count": 13,
   "id": "13c1f629",
   "metadata": {},
   "outputs": [],
   "source": [
    "def isLink(edge):\n",
    "    if df_removable_and_unconnected['link'][edge]==1:\n",
    "        return True\n",
    "    return False\n",
    "\n",
    "def JCfunction(thres):\n",
    "    # count tp tn fp fn\n",
    "    tp, tn, fp, fn = 0, 0, 0, 0\n",
    "    not_in_df = 0\n",
    "    \n",
    "    for item in jc:\n",
    "        edge, inv_edge, score = (int(item[0]), int(item[1])), (int(item[1]), int(item[0])), item[2]\n",
    "       \n",
    "        if edge in df_removable_and_unconnected.index:\n",
    "            if score >= thres:\n",
    "                if isLink(edge):\n",
    "                    tp += 1\n",
    "                else:\n",
    "                    fp += 1\n",
    "            else:\n",
    "                if not isLink(edge):\n",
    "                    tn += 1\n",
    "                else:\n",
    "                    fn += 1\n",
    "        elif inv_edge in df_removable_and_unconnected.index:\n",
    "            if score >= thres:\n",
    "                if isLink(inv_edge):\n",
    "                    tp += 1\n",
    "                else:\n",
    "                    fp += 1\n",
    "            else:\n",
    "                if not isLink(inv_edge):\n",
    "                    tn += 1\n",
    "                else:\n",
    "                    fn += 1\n",
    "        else:\n",
    "            not_in_df += 1\n",
    "    \n",
    "    pr = tp / (tp+fp) if (tp+fp) > 0 else 0\n",
    "    rec = tp / (tp+fn) if (tp+fn) > 0 else 0\n",
    "    acc = (tp+tn) / (tp+fp+tn+fn) \n",
    "    return pr, rec, acc\n",
    "    "
   ]
  },
  {
   "cell_type": "code",
   "execution_count": 14,
   "id": "b5898eb1",
   "metadata": {},
   "outputs": [],
   "source": [
    "precisions_jc, recalls_jc, accuracies_jc = dict(), dict(), dict()\n",
    "thresholds = [0.1, 0.15, 0.25, 0.5, 1.0]\n",
    "for t in thresholds:\n",
    "    precisions_jc[t], recalls_jc[t], accuracies_jc[t] = JCfunction(t)"
   ]
  },
  {
   "cell_type": "code",
   "execution_count": 15,
   "id": "a43cebf6",
   "metadata": {},
   "outputs": [],
   "source": [
    "def plotBarChart(x, ylist, cols, labs, tit, xlab, ylab, figsize=(15,8), subplots=1, x2=None, ylist2=None):\n",
    "    plt.clf()\n",
    "    \n",
    "    if subplots == 1:\n",
    "        fig, ax = plt.subplots(figsize=figsize)\n",
    "        # offsets of bar plots\n",
    "        xaxis = np.arange(len(x))\n",
    "        totalWidth = len(ylist)*0.2-0.2\n",
    "        offset = [-(totalWidth/2)+i*0.2 for i in range(len(ylist))]\n",
    "\n",
    "        for i in range(len(ylist)):\n",
    "            fig = plt.bar(xaxis+offset[i], ylist[i], color=cols[i], label=labs[i], width=0.2)\n",
    "\n",
    "        # correct the xticklabels\n",
    "        ax.set_xticks(xaxis)\n",
    "        ax.set_xticklabels(x)\n",
    "\n",
    "        plt.legend()\n",
    "        plt.xlabel(xlab, fontsize=15)\n",
    "        plt.ylabel(ylab, fontsize=15)\n",
    "        plt.title(tit, fontsize=20)\n",
    "        plt.grid(axis='y')\n",
    "        \n",
    "    else:\n",
    "        fig, [ax,ax2] = plt.subplots(nrows=1, ncols=2, figsize=figsize)\n",
    "        fig.suptitle(tit, fontsize=20)\n",
    "        \n",
    "        plt.subplot(1,2,1)\n",
    "        # barplot 1\n",
    "        xaxis = np.arange(len(x))\n",
    "        # offsets of bar plots\n",
    "        totalWidth = len(ylist)*0.2-0.2\n",
    "        offset = [-(totalWidth/2)+i*0.2 for i in range(len(ylist))]\n",
    "\n",
    "        for i in range(len(ylist)):\n",
    "            fig = ax.bar(xaxis+offset[i], ylist[i], color=cols[i], label=labs[i], width=0.2)\n",
    "\n",
    "        # correct the xticklabels\n",
    "        ax.set_xticks(xaxis)\n",
    "        ax.set_xticklabels(x)\n",
    "        ax.legend()\n",
    "        plt.xlabel(xlab, fontsize=15)\n",
    "        plt.ylabel(ylab, fontsize=15)\n",
    "        plt.grid(axis='y')\n",
    "        \n",
    "        \n",
    "        # barplot 2\n",
    "        plt.subplot(1,2,2)\n",
    "        xaxis2 = np.arange(len(x2))\n",
    "        # offsets of bar plots\n",
    "        totalWidth = len(ylist2)*0.2-0.2\n",
    "        offset = [-(totalWidth/2)+i*0.2 for i in range(len(ylist2))]\n",
    "\n",
    "        for i in range(len(ylist2)):\n",
    "            fig = ax2.bar(xaxis2+offset[i], ylist2[i], color=cols[i], label=labs[i], width=0.2)\n",
    "\n",
    "        # correct the xticklabels\n",
    "        ax2.set_xticks(xaxis2)\n",
    "        ax2.set_xticklabels(x2)\n",
    "        ax2.legend()\n",
    "        plt.xlabel(xlab, fontsize=15)\n",
    "        plt.ylabel(ylab, fontsize=15)    \n",
    "        plt.grid(axis='y')"
   ]
  },
  {
   "cell_type": "code",
   "execution_count": 16,
   "id": "ca7fdc0f",
   "metadata": {},
   "outputs": [
    {
     "data": {
      "text/plain": [
       "<Figure size 432x288 with 0 Axes>"
      ]
     },
     "metadata": {},
     "output_type": "display_data"
    },
    {
     "data": {
      "image/png": "[encoded data removed]",
      "text/plain": [
       "<Figure size 1080x576 with 1 Axes>"
      ]
     },
     "metadata": {
      "needs_background": "light"
     },
     "output_type": "display_data"
    }
   ],
   "source": [
    "ys = []\n",
    "ys.append(list(precisions_jc.values()))\n",
    "ys.append(list(recalls_jc.values()))\n",
    "ys.append(list(accuracies_jc.values()))\n",
    "# print(ys)\n",
    "plotBarChart([str(item) for item in thresholds], \n",
    "             ys, \n",
    "             ['magenta', 'teal', 'goldenrod'], \n",
    "             ['precission', 'recall', 'accuracy'], \n",
    "             \"Precission, Recall and Accuracy for various Thresholds\", \n",
    "             \"Threshold\",\n",
    "             \"\",\n",
    "             figsize=(15,8))"
   ]
  },
  {
   "cell_type": "markdown",
   "id": "440c224d",
   "metadata": {},
   "source": [
    "<html><font size=4><B>3. Πρόβλεψη συνδέσμων βάσει similarity-based μετρικών</B></font>    \n",
    "        <li><B>3(i).</B> Προτείνετε μια τουλάχιστον μέθοδο, για να εξερευνήσουμε και να εκφράσουμε μέσα από τα πακέτα NumPy ή SciPy ή Pandas την συσχέτιση (correlation) μεταξύ των τιμών των μετρικών <B>Jaccard Coefficient</B>, <B>Preferential Attachment</B>, <B>Resource Allocation</B> για τον μειωμένο γράφο $G'$. Σημ.: Δεν χρειάζεται κάποια υλοποίηση, μόνο αναφορά της μεθόδου συσχέτισης και επεξήγηση της επιλογής σας.\n",
    "     <li><B>3(ii).</B> Εργαστείτε πάνω σε <B><U>αντίγραφο</U></B> του dataframe που κατασκευάσατε στο ερώτημα 1(vα) (unconnected+removables). Δημιουργήστε στήλη (column) με τις ακμές του γράφου και θέστε την ως index του dataframe. Στο dataframe θα προσθέσετε ως στήλες τις τιμές των μετρικών (<B>Jaccard Coefficient</B>, <B>Preferential Attachment</B>, <B>Resource Allocation</B>) για τον μειωμένο γράφο $G'$. Οι τιμές των μετρικών μπορούν να υπολογιστούν με τις συναρτήσεις του πακέτου NetworkX.</li>   </font></html>\n",
    "    \n",
    "    |       | link  |Jacc.Coeff.|Pr.Attachment| Resource Allocation|\n",
    "    |-------|-------|-----------|-------------|--------------------|\n",
    "    |(1, 6) |  0    |  0.333333 |     32      |    0.700000        |\n",
    "    |(1, 46)|  0    |  0.200000 |      8      |    0.166667        |"
   ]
  },
  {
   "cell_type": "markdown",
   "id": "d3287a51",
   "metadata": {},
   "source": [
    "Για τον υπολογισμό του correlation μπορούμε να χρησιμοποιήσουμε την μέθοδο corr() του pandas. Είναι άλλωστε πολύ βολική σε σχέση με την αναπαράσταση που χρησιμοποιούμε."
   ]
  },
  {
   "cell_type": "code",
   "execution_count": 17,
   "id": "a29713ca",
   "metadata": {},
   "outputs": [
    {
     "data": {
      "text/html": [
       "<div>\n",
       "<style scoped>\n",
       "    .dataframe tbody tr th:only-of-type {\n",
       "        vertical-align: middle;\n",
       "    }\n",
       "\n",
       "    .dataframe tbody tr th {\n",
       "        vertical-align: top;\n",
       "    }\n",
       "\n",
       "    .dataframe thead th {\n",
       "        text-align: right;\n",
       "    }\n",
       "</style>\n",
       "<table border=\"1\" class=\"dataframe\">\n",
       "  <thead>\n",
       "    <tr style=\"text-align: right;\">\n",
       "      <th></th>\n",
       "      <th>link</th>\n",
       "    </tr>\n",
       "    <tr>\n",
       "      <th>edges</th>\n",
       "      <th></th>\n",
       "    </tr>\n",
       "  </thead>\n",
       "  <tbody>\n",
       "    <tr>\n",
       "      <th>(132, 268)</th>\n",
       "      <td>0</td>\n",
       "    </tr>\n",
       "    <tr>\n",
       "      <th>(192, 319)</th>\n",
       "      <td>0</td>\n",
       "    </tr>\n",
       "    <tr>\n",
       "      <th>(35, 335)</th>\n",
       "      <td>0</td>\n",
       "    </tr>\n",
       "    <tr>\n",
       "      <th>(54, 385)</th>\n",
       "      <td>0</td>\n",
       "    </tr>\n",
       "    <tr>\n",
       "      <th>(95, 386)</th>\n",
       "      <td>0</td>\n",
       "    </tr>\n",
       "    <tr>\n",
       "      <th>...</th>\n",
       "      <td>...</td>\n",
       "    </tr>\n",
       "    <tr>\n",
       "      <th>(335, 337)</th>\n",
       "      <td>1</td>\n",
       "    </tr>\n",
       "    <tr>\n",
       "      <th>(334, 339)</th>\n",
       "      <td>1</td>\n",
       "    </tr>\n",
       "    <tr>\n",
       "      <th>(4, 46)</th>\n",
       "      <td>1</td>\n",
       "    </tr>\n",
       "    <tr>\n",
       "      <th>(400, 403)</th>\n",
       "      <td>1</td>\n",
       "    </tr>\n",
       "    <tr>\n",
       "      <th>(336, 345)</th>\n",
       "      <td>1</td>\n",
       "    </tr>\n",
       "  </tbody>\n",
       "</table>\n",
       "<p>91900 rows × 1 columns</p>\n",
       "</div>"
      ],
      "text/plain": [
       "            link\n",
       "edges           \n",
       "(132, 268)     0\n",
       "(192, 319)     0\n",
       "(35, 335)      0\n",
       "(54, 385)      0\n",
       "(95, 386)      0\n",
       "...          ...\n",
       "(335, 337)     1\n",
       "(334, 339)     1\n",
       "(4, 46)        1\n",
       "(400, 403)     1\n",
       "(336, 345)     1\n",
       "\n",
       "[91900 rows x 1 columns]"
      ]
     },
     "execution_count": 17,
     "metadata": {},
     "output_type": "execute_result"
    }
   ],
   "source": [
    "#replicate of the dataframe \"unconnected+removables\"---dataframe will be used again in (4)\n",
    "df_coppied = df_removable_and_unconnected.copy(deep=True)\n",
    "df_coppied"
   ]
  },
  {
   "cell_type": "code",
   "execution_count": 18,
   "id": "8d1ba5c6",
   "metadata": {},
   "outputs": [],
   "source": [
    "def triple2dict(myList):\n",
    "    myDict = dict()\n",
    "    for (a,b,c) in myList:\n",
    "        if a < b:\n",
    "            myDict[(a,b)]=c\n",
    "        else:\n",
    "            myDict[(b,a)]=c\n",
    "    return myDict\n",
    "            "
   ]
  },
  {
   "cell_type": "code",
   "execution_count": 19,
   "id": "047233a5",
   "metadata": {},
   "outputs": [],
   "source": [
    "#dataframe for similarity-based measurement values\n",
    "\n",
    "#Jaccard Coefficient\n",
    "# calculate jc and turn list into dict\n",
    "jc = list(nx.jaccard_coefficient(G_reduced))\n",
    "jc_dict = triple2dict(jc)\n",
    "\n",
    "# create list to turn into dataframe column\n",
    "jc_col = [jc_dict[edge] for edge in list(df_coppied.index)]"
   ]
  },
  {
   "cell_type": "code",
   "execution_count": 20,
   "id": "062a3d6e",
   "metadata": {},
   "outputs": [],
   "source": [
    "# Preferential Attachment\n",
    "\n",
    "# calculate pa and turn list into dict\n",
    "pa = nx.preferential_attachment(G_reduced)\n",
    "pa_dict = triple2dict(pa)\n",
    "\n",
    "# create list to turn into dataframe column\n",
    "pa_col = [pa_dict[edge] for edge in list(df_coppied.index)]"
   ]
  },
  {
   "cell_type": "code",
   "execution_count": 21,
   "id": "583d8955",
   "metadata": {},
   "outputs": [],
   "source": [
    "# Resource Allocation\n",
    "\n",
    "# calculate ra and turn into dict\n",
    "ra = nx.resource_allocation_index(G_reduced)\n",
    "ra_dict = triple2dict(ra)\n",
    "\n",
    "# create list to turn into dataframe column\n",
    "ra_col = [ra_dict[edge] for edge in list(df_coppied.index)]"
   ]
  },
  {
   "cell_type": "code",
   "execution_count": 22,
   "id": "1af6f2d1",
   "metadata": {},
   "outputs": [],
   "source": [
    "df_coppied['JaccardCoefficient'] = jc_col\n",
    "df_coppied['PreferentialAttachment'] = pa_col\n",
    "df_coppied['ResourceAllocation'] = ra_col"
   ]
  },
  {
   "cell_type": "code",
   "execution_count": 23,
   "id": "a721bcf9",
   "metadata": {},
   "outputs": [
    {
     "data": {
      "text/html": [
       "<div>\n",
       "<style scoped>\n",
       "    .dataframe tbody tr th:only-of-type {\n",
       "        vertical-align: middle;\n",
       "    }\n",
       "\n",
       "    .dataframe tbody tr th {\n",
       "        vertical-align: top;\n",
       "    }\n",
       "\n",
       "    .dataframe thead th {\n",
       "        text-align: right;\n",
       "    }\n",
       "</style>\n",
       "<table border=\"1\" class=\"dataframe\">\n",
       "  <thead>\n",
       "    <tr style=\"text-align: right;\">\n",
       "      <th></th>\n",
       "      <th>link</th>\n",
       "    </tr>\n",
       "    <tr>\n",
       "      <th>edges</th>\n",
       "      <th></th>\n",
       "    </tr>\n",
       "  </thead>\n",
       "  <tbody>\n",
       "    <tr>\n",
       "      <th>(132, 268)</th>\n",
       "      <td>0</td>\n",
       "    </tr>\n",
       "    <tr>\n",
       "      <th>(192, 319)</th>\n",
       "      <td>0</td>\n",
       "    </tr>\n",
       "    <tr>\n",
       "      <th>(35, 335)</th>\n",
       "      <td>0</td>\n",
       "    </tr>\n",
       "    <tr>\n",
       "      <th>(54, 385)</th>\n",
       "      <td>0</td>\n",
       "    </tr>\n",
       "    <tr>\n",
       "      <th>(95, 386)</th>\n",
       "      <td>0</td>\n",
       "    </tr>\n",
       "    <tr>\n",
       "      <th>...</th>\n",
       "      <td>...</td>\n",
       "    </tr>\n",
       "    <tr>\n",
       "      <th>(335, 337)</th>\n",
       "      <td>1</td>\n",
       "    </tr>\n",
       "    <tr>\n",
       "      <th>(334, 339)</th>\n",
       "      <td>1</td>\n",
       "    </tr>\n",
       "    <tr>\n",
       "      <th>(4, 46)</th>\n",
       "      <td>1</td>\n",
       "    </tr>\n",
       "    <tr>\n",
       "      <th>(400, 403)</th>\n",
       "      <td>1</td>\n",
       "    </tr>\n",
       "    <tr>\n",
       "      <th>(336, 345)</th>\n",
       "      <td>1</td>\n",
       "    </tr>\n",
       "  </tbody>\n",
       "</table>\n",
       "<p>91900 rows × 1 columns</p>\n",
       "</div>"
      ],
      "text/plain": [
       "            link\n",
       "edges           \n",
       "(132, 268)     0\n",
       "(192, 319)     0\n",
       "(35, 335)      0\n",
       "(54, 385)      0\n",
       "(95, 386)      0\n",
       "...          ...\n",
       "(335, 337)     1\n",
       "(334, 339)     1\n",
       "(4, 46)        1\n",
       "(400, 403)     1\n",
       "(336, 345)     1\n",
       "\n",
       "[91900 rows x 1 columns]"
      ]
     },
     "execution_count": 23,
     "metadata": {},
     "output_type": "execute_result"
    }
   ],
   "source": [
    "df_coppied[['link']]"
   ]
  },
  {
   "cell_type": "markdown",
   "id": "517d4a05",
   "metadata": {},
   "source": [
    "<li><B>3(iiiα).</B> Χρησιμοποιήστε τον Random Forest Classifier και το αντίγραφο dataframe που κατασκευάσατε στο ερώτημα 3(ii), για να προβλέψετε συνδέσεις. Συμπληρώστε στον κώδικα: τα features ($X$), την target variable ($y$) και τα ορίσματα της συνάρτησης $fit$ για το training του μοντέλου.</li>\n",
    "<li><B>3(iiiβ).</B> Δώστε τις ($A.M$ $mod$ $10$) πρώτες προβλέψεις και την ακρίβεια ($accuracy$) του μοντέλου. </li>\n",
    "<li><B>3(iiiγ).</B>Υπολογίστε την πιθανότητα να συνδεθούν οι κόμβοι ($1$,$47$) βάσει του μοντέλου σας. </li>  "
   ]
  },
  {
   "cell_type": "code",
   "execution_count": 24,
   "id": "967589c0",
   "metadata": {},
   "outputs": [],
   "source": [
    "#uncomment whole cell\n",
    "from sklearn.model_selection import train_test_split\n",
    "from sklearn.ensemble import RandomForestClassifier\n",
    "from sklearn.metrics import accuracy_score\n",
    "from sklearn.model_selection import GridSearchCV\n",
    "\n",
    "#features, uncomment and complete\n",
    "X = df_coppied[['JaccardCoefficient', 'PreferentialAttachment', 'ResourceAllocation']] \n",
    "#target, uncomment and complete\n",
    "y = df_coppied['link']\n",
    "\n",
    "X_train, X_test, y_train, y_test = train_test_split(X,y,random_state = 0) #uncomment and complete"
   ]
  },
  {
   "cell_type": "code",
   "execution_count": 25,
   "id": "be379e85",
   "metadata": {},
   "outputs": [],
   "source": [
    "#uncomment whole cell\n",
    "classifier = RandomForestClassifier()   \n",
    "\n",
    "from sklearn.preprocessing import MinMaxScaler \n",
    "mm_scaler = MinMaxScaler() \n",
    "X_train_scaled = mm_scaler.fit_transform(X_train)\n",
    "X_test_scaled = mm_scaler.transform(X_test)\n",
    "\n",
    "parameters = {'n_estimators' : [10,50,100], 'max_depth' : [5,10,15]} \n",
    "model = GridSearchCV(classifier, param_grid = parameters) "
   ]
  },
  {
   "cell_type": "code",
   "execution_count": 26,
   "id": "d3275891",
   "metadata": {},
   "outputs": [
    {
     "data": {
      "text/html": [
       "<style>#sk-container-id-1 {color: black;background-color: white;}#sk-container-id-1 pre{padding: 0;}#sk-container-id-1 div.sk-toggleable {background-color: white;}#sk-container-id-1 label.sk-toggleable__label {cursor: pointer;display: block;width: 100%;margin-bottom: 0;padding: 0.3em;box-sizing: border-box;text-align: center;}#sk-container-id-1 label.sk-toggleable__label-arrow:before {content: \"▸\";float: left;margin-right: 0.25em;color: #696969;}#sk-container-id-1 label.sk-toggleable__label-arrow:hover:before {color: black;}#sk-container-id-1 div.sk-estimator:hover label.sk-toggleable__label-arrow:before {color: black;}#sk-container-id-1 div.sk-toggleable__content {max-height: 0;max-width: 0;overflow: hidden;text-align: left;background-color: #f0f8ff;}#sk-container-id-1 div.sk-toggleable__content pre {margin: 0.2em;color: black;border-radius: 0.25em;background-color: #f0f8ff;}#sk-container-id-1 input.sk-toggleable__control:checked~div.sk-toggleable__content {max-height: 200px;max-width: 100%;overflow: auto;}#sk-container-id-1 input.sk-toggleable__control:checked~label.sk-toggleable__label-arrow:before {content: \"▾\";}#sk-container-id-1 div.sk-estimator input.sk-toggleable__control:checked~label.sk-toggleable__label {background-color: #d4ebff;}#sk-container-id-1 div.sk-label input.sk-toggleable__control:checked~label.sk-toggleable__label {background-color: #d4ebff;}#sk-container-id-1 input.sk-hidden--visually {border: 0;clip: rect(1px 1px 1px 1px);clip: rect(1px, 1px, 1px, 1px);height: 1px;margin: -1px;overflow: hidden;padding: 0;position: absolute;width: 1px;}#sk-container-id-1 div.sk-estimator {font-family: monospace;background-color: #f0f8ff;border: 1px dotted black;border-radius: 0.25em;box-sizing: border-box;margin-bottom: 0.5em;}#sk-container-id-1 div.sk-estimator:hover {background-color: #d4ebff;}#sk-container-id-1 div.sk-parallel-item::after {content: \"\";width: 100%;border-bottom: 1px solid gray;flex-grow: 1;}#sk-container-id-1 div.sk-label:hover label.sk-toggleable__label {background-color: #d4ebff;}#sk-container-id-1 div.sk-serial::before {content: \"\";position: absolute;border-left: 1px solid gray;box-sizing: border-box;top: 0;bottom: 0;left: 50%;z-index: 0;}#sk-container-id-1 div.sk-serial {display: flex;flex-direction: column;align-items: center;background-color: white;padding-right: 0.2em;padding-left: 0.2em;position: relative;}#sk-container-id-1 div.sk-item {position: relative;z-index: 1;}#sk-container-id-1 div.sk-parallel {display: flex;align-items: stretch;justify-content: center;background-color: white;position: relative;}#sk-container-id-1 div.sk-item::before, #sk-container-id-1 div.sk-parallel-item::before {content: \"\";position: absolute;border-left: 1px solid gray;box-sizing: border-box;top: 0;bottom: 0;left: 50%;z-index: -1;}#sk-container-id-1 div.sk-parallel-item {display: flex;flex-direction: column;z-index: 1;position: relative;background-color: white;}#sk-container-id-1 div.sk-parallel-item:first-child::after {align-self: flex-end;width: 50%;}#sk-container-id-1 div.sk-parallel-item:last-child::after {align-self: flex-start;width: 50%;}#sk-container-id-1 div.sk-parallel-item:only-child::after {width: 0;}#sk-container-id-1 div.sk-dashed-wrapped {border: 1px dashed gray;margin: 0 0.4em 0.5em 0.4em;box-sizing: border-box;padding-bottom: 0.4em;background-color: white;}#sk-container-id-1 div.sk-label label {font-family: monospace;font-weight: bold;display: inline-block;line-height: 1.2em;}#sk-container-id-1 div.sk-label-container {text-align: center;}#sk-container-id-1 div.sk-container {/* jupyter's `normalize.less` sets `[hidden] { display: none; }` but bootstrap.min.css set `[hidden] { display: none !important; }` so we also need the `!important` here to be able to override the default hidden behavior on the sphinx rendered scikit-learn.org. See: https://github.com/scikit-learn/scikit-learn/issues/21755 */display: inline-block !important;position: relative;}#sk-container-id-1 div.sk-text-repr-fallback {display: none;}</style><div id=\"sk-container-id-1\" class=\"sk-top-container\"><div class=\"sk-text-repr-fallback\"><pre>GridSearchCV(estimator=RandomForestClassifier(),\n",
       "             param_grid={&#x27;max_depth&#x27;: [5, 10, 15],\n",
       "                         &#x27;n_estimators&#x27;: [10, 50, 100]})</pre><b>In a Jupyter environment, please rerun this cell to show the HTML representation or trust the notebook. <br />On GitHub, the HTML representation is unable to render, please try loading this page with nbviewer.org.</b></div><div class=\"sk-container\" hidden><div class=\"sk-item sk-dashed-wrapped\"><div class=\"sk-label-container\"><div class=\"sk-label sk-toggleable\"><input class=\"sk-toggleable__control sk-hidden--visually\" id=\"sk-estimator-id-1\" type=\"checkbox\" ><label for=\"sk-estimator-id-1\" class=\"sk-toggleable__label sk-toggleable__label-arrow\">GridSearchCV</label><div class=\"sk-toggleable__content\"><pre>GridSearchCV(estimator=RandomForestClassifier(),\n",
       "             param_grid={&#x27;max_depth&#x27;: [5, 10, 15],\n",
       "                         &#x27;n_estimators&#x27;: [10, 50, 100]})</pre></div></div></div><div class=\"sk-parallel\"><div class=\"sk-parallel-item\"><div class=\"sk-item\"><div class=\"sk-label-container\"><div class=\"sk-label sk-toggleable\"><input class=\"sk-toggleable__control sk-hidden--visually\" id=\"sk-estimator-id-2\" type=\"checkbox\" ><label for=\"sk-estimator-id-2\" class=\"sk-toggleable__label sk-toggleable__label-arrow\">estimator: RandomForestClassifier</label><div class=\"sk-toggleable__content\"><pre>RandomForestClassifier()</pre></div></div></div><div class=\"sk-serial\"><div class=\"sk-item\"><div class=\"sk-estimator sk-toggleable\"><input class=\"sk-toggleable__control sk-hidden--visually\" id=\"sk-estimator-id-3\" type=\"checkbox\" ><label for=\"sk-estimator-id-3\" class=\"sk-toggleable__label sk-toggleable__label-arrow\">RandomForestClassifier</label><div class=\"sk-toggleable__content\"><pre>RandomForestClassifier()</pre></div></div></div></div></div></div></div></div></div></div>"
      ],
      "text/plain": [
       "GridSearchCV(estimator=RandomForestClassifier(),\n",
       "             param_grid={'max_depth': [5, 10, 15],\n",
       "                         'n_estimators': [10, 50, 100]})"
      ]
     },
     "execution_count": 26,
     "metadata": {},
     "output_type": "execute_result"
    }
   ],
   "source": [
    "model.fit(X_train_scaled, y_train)#train the model, uncomment and complete"
   ]
  },
  {
   "cell_type": "code",
   "execution_count": 27,
   "id": "6d2abb7a",
   "metadata": {},
   "outputs": [
    {
     "name": "stdout",
     "output_type": "stream",
     "text": [
      "7 first predictions:\n"
     ]
    },
    {
     "data": {
      "text/plain": [
       "array([0, 0, 0, 0, 0, 0, 0])"
      ]
     },
     "execution_count": 27,
     "metadata": {},
     "output_type": "execute_result"
    }
   ],
   "source": [
    "predictions = model.predict(X_test_scaled)       #uncomment\n",
    "print(\"7 first predictions:\")\n",
    "predictions[:7] #get (A.M. last digit) first predictions, uncomment and complete"
   ]
  },
  {
   "cell_type": "code",
   "execution_count": 28,
   "id": "91775e5e",
   "metadata": {},
   "outputs": [],
   "source": [
    "predict_proba = model.predict_proba(X_test_scaled) #uncomment and complete"
   ]
  },
  {
   "cell_type": "code",
   "execution_count": 29,
   "id": "d350ddd4",
   "metadata": {},
   "outputs": [
    {
     "name": "stdout",
     "output_type": "stream",
     "text": [
      "dataframe row for (1,47) pair:\n"
     ]
    },
    {
     "data": {
      "text/html": [
       "<div>\n",
       "<style scoped>\n",
       "    .dataframe tbody tr th:only-of-type {\n",
       "        vertical-align: middle;\n",
       "    }\n",
       "\n",
       "    .dataframe tbody tr th {\n",
       "        vertical-align: top;\n",
       "    }\n",
       "\n",
       "    .dataframe thead th {\n",
       "        text-align: right;\n",
       "    }\n",
       "</style>\n",
       "<table border=\"1\" class=\"dataframe\">\n",
       "  <thead>\n",
       "    <tr style=\"text-align: right;\">\n",
       "      <th></th>\n",
       "      <th>link</th>\n",
       "      <th>JaccardCoefficient</th>\n",
       "      <th>PreferentialAttachment</th>\n",
       "      <th>ResourceAllocation</th>\n",
       "    </tr>\n",
       "    <tr>\n",
       "      <th>edges</th>\n",
       "      <th></th>\n",
       "      <th></th>\n",
       "      <th></th>\n",
       "      <th></th>\n",
       "    </tr>\n",
       "  </thead>\n",
       "  <tbody>\n",
       "    <tr>\n",
       "      <th>(0, 46)</th>\n",
       "      <td>0</td>\n",
       "      <td>0.0</td>\n",
       "      <td>1</td>\n",
       "      <td>0.0</td>\n",
       "    </tr>\n",
       "  </tbody>\n",
       "</table>\n",
       "</div>"
      ],
      "text/plain": [
       "         link  JaccardCoefficient  PreferentialAttachment  ResourceAllocation\n",
       "edges                                                                        \n",
       "(0, 46)     0                 0.0                       1                 0.0"
      ]
     },
     "execution_count": 29,
     "metadata": {},
     "output_type": "execute_result"
    }
   ],
   "source": [
    "print(f\"dataframe row for (1,47) pair:\")\n",
    "df_coppied.loc[[(0, 46)],['link','JaccardCoefficient', 'PreferentialAttachment', 'ResourceAllocation']]"
   ]
  },
  {
   "cell_type": "code",
   "execution_count": 30,
   "id": "272da0aa",
   "metadata": {},
   "outputs": [
    {
     "name": "stdout",
     "output_type": "stream",
     "text": [
      "probability that (1,47) pair will be connected:\n",
      "0.0002776026870761236\n"
     ]
    }
   ],
   "source": [
    "# predict probability that 1,47 will get connected\n",
    "print(\"probability that (1,47) pair will be connected:\")\n",
    "test_1_47 = df_coppied.loc[[(0, 46)],['JaccardCoefficient', 'PreferentialAttachment', 'ResourceAllocation']]\n",
    "print(model.predict_proba(mm_scaler.transform(test_1_47))[0][1])"
   ]
  },
  {
   "cell_type": "code",
   "execution_count": 31,
   "id": "a7a41d2c",
   "metadata": {},
   "outputs": [
    {
     "name": "stdout",
     "output_type": "stream",
     "text": [
      "Accuracy Score: \n"
     ]
    },
    {
     "data": {
      "text/plain": [
       "0.9989989118607182"
      ]
     },
     "execution_count": 31,
     "metadata": {},
     "output_type": "execute_result"
    }
   ],
   "source": [
    "print(\"Accuracy Score: \")\n",
    "model.score(X_test_scaled,y_test)"
   ]
  },
  {
   "cell_type": "markdown",
   "id": "965dbe21",
   "metadata": {},
   "source": [
    "<html><font size=4><B>4. Πρόβλεψη συνδέσμων με embedding βασισμένο σε τυχαίους περιπάτους (Random Walks) </B></font><BR><BR>\n",
    "    <li><B>4(i).</B> Εξάγετε τα χαρακτηριστικά (features) του γράφου $G'$, που προέκυψε από την αφαίρεση των ακμών. Για τον σκοπό αυτό χρησιμοποιήστε τον αλγόριθμο <B>Node2vec</B> <a href=\"https://cs.stanford.edu/~jure/pubs/node2vec-kdd16.pdf\">[3]</a>. Ο αλγόριθμος αντιστοιχίζει τους κόμβους του γράφου μέσω τυχαίων περιπάτων (biased 2nd order random walks) σε ένα χώρο μικρού αριθμού διαστάσεων (low dimensional space) διατηρώντας την μεταξύ τους γειτνίαση.\n",
    "        <BR>Για την επιλογή των παραμέτρων: \n",
    "            <li>p - παράμετρος τυχαίων περιπάτων p που καθορίζει την πιθανότητα “1/p” επιστροφής στον κόμβο προέλευσης (source node), </li>\n",
    "                <li>q - παράμετρος τυχαίων περιπάτων q που καθορίζει την πιθανότητα  “1/q” μετακίνησης σε κόμβο μακριά από τον κόμβο προέλευσης (source node), </li>\n",
    "                 <li>dimensions - πλήθος διαστάσεων των Node2Vec embeddings, </li>\n",
    "                     <li>num_walks - αριθμός περιπάτων από κάθε κόμβο, </li>\n",
    "                         <li>walk_length - μήκος τυχαίου περιπάτου, </li>\n",
    "                             <li>window_size - μέγεθος παραθύρου context για τον αλγόριθμο Word2Vec, </li><li>num_iter - αριθμός SGD επαναλήψεων (epochs), </li>\n",
    "            <li>workers - αριθμός workers για τον Word2Vec,</li>\n",
    "            χρησιμοποιήστε τις τιμές:   </html>\n",
    "   \n",
    "                   "
   ]
  },
  {
   "cell_type": "markdown",
   "id": "0fe7e73f",
   "metadata": {},
   "source": [
    " |   p   |   q   | dimensions|  num_walks  |walk_length |window_size|        workers            |\n",
    " |-------|-------|-----------|-------------|------------|-----------|---------------------------|\n",
    " |  1.0  |  1.0  |  128      |     10      |    80      |     10    |multiprocessing.cpu_count()|"
   ]
  },
  {
   "cell_type": "code",
   "execution_count": 32,
   "id": "b5e0e86e",
   "metadata": {},
   "outputs": [
    {
     "data": {
      "application/vnd.jupyter.widget-view+json": {
       "model_id": "2115998322f0460b8eeaef42b42a1648",
       "version_major": 2,
       "version_minor": 0
      },
      "text/plain": [
       "Computing transition probabilities:   0%|          | 0/430 [00:00<?, ?it/s]"
      ]
     },
     "metadata": {},
     "output_type": "display_data"
    }
   ],
   "source": [
    "#install node2vec with conda / pip\n",
    "from node2vec import Node2Vec   #uncomment\n",
    "import multiprocessing          #uncomment\n",
    "\n",
    "#generate walks\n",
    "node2vec_walker = Node2Vec(G_reduced, \n",
    "                           p=1, \n",
    "                           q=1, \n",
    "                           dimensions=128, \n",
    "                           num_walks=10, \n",
    "                           walk_length=80, \n",
    "                           workers= multiprocessing.cpu_count()) #uncomment and complete\n",
    "\n",
    "#train node2vec model\n",
    "n2v_model = node2vec_walker.fit(window=10 , min_count=1) #uncomment and complete"
   ]
  },
  {
   "cell_type": "markdown",
   "id": "8919f3f9",
   "metadata": {},
   "source": [
    "<html><font>\n",
    "    <li><B>4(ii).</B> Εφαρμόστε τον αλγόριθμο Random Forest Classifier, για να προβλέψετε τις συνδέσεις.</li><BR>\n",
    "    <li><B>4(iii).</B> Υπολογίστε την ακρίβεια ($accuracy$) του μοντέλου. </li><BR></font></html>"
   ]
  },
  {
   "cell_type": "code",
   "execution_count": 33,
   "id": "b920b507",
   "metadata": {},
   "outputs": [],
   "source": [
    "#apply trained Node2Vec model on each node pair of the dataframe \"unconnected+removables\"\n",
    "#uncomment:\n",
    "# x = [(n2v_model.wv[str(i)]+n2v_model.wv[str(j)]) for i,j in zip(df_with_target_var['node_1'], df_with_target_var['node_2'])]\n",
    "x = [(n2v_model.wv[str(i)]+n2v_model.wv[str(j)]) for (i,j) in df_removable_and_unconnected.index]"
   ]
  },
  {
   "cell_type": "code",
   "execution_count": 34,
   "id": "442f71a5",
   "metadata": {},
   "outputs": [],
   "source": [
    "X_train, X_test, y_train, y_test = train_test_split(x, y, random_state = 0)  #uncomment and complete"
   ]
  },
  {
   "cell_type": "code",
   "execution_count": null,
   "id": "79a932a4",
   "metadata": {},
   "outputs": [],
   "source": [
    "#uncomment whole cell\n",
    "from sklearn.ensemble import RandomForestClassifier\n",
    "from sklearn.metrics import accuracy_score\n",
    "\n",
    "classifier = RandomForestClassifier(max_depth=2, random_state=0) \n",
    "classifier.fit(X_train, y_train)   #uncomment and complete"
   ]
  },
  {
   "cell_type": "code",
   "execution_count": null,
   "id": "0cf34ff5",
   "metadata": {},
   "outputs": [],
   "source": [
    "# find accuracy\n",
    "print(\"Accuracy: \")\n",
    "classifier.score(X_test, y_test)"
   ]
  },
  {
   "cell_type": "markdown",
   "id": "a83e5b0a",
   "metadata": {},
   "source": [
    "<html><font size=4> <B><U>Ερώτηση bonus (+10/100)</U><B>: </font>Για τους binary operators για learning των edge features με τον αλγόριθμο Node2Vec που αναφέρονται στο <a href=\"https://cs.stanford.edu/~jure/pubs/node2vec-kdd16.pdf\">[3]</a> ((α) Average, (β) Hadamard, (γ) Weighted-L1 και (δ) Weighted-L2) τροποποιήστε τoν κώδικά σας και σημειώστε τις παρατηρήσεις σας ως προς την απόδοση του αλγορίθμου.</font></html>"
   ]
  },
  {
   "cell_type": "markdown",
   "id": "1f9d406b",
   "metadata": {},
   "source": [
    "<html><font size=4><B><U>Βιβλιογραφία:</U></B><BR></font>\n",
    "<a href=\"https://dl.acm.org/doi/10.1145/2487788.2488173\">[1]\tJérôme Kunegis. KONECT – The Koblenz Network Collection. In Proc. Int. Conf. on World Wide Web Companion, pages 1343–1350, 2013.</a><BR>\n",
    "<a href=\"https://link.springer.com/chapter/10.1007/978-3-540-76298-0_52\">[2]\tSören Auer, Christian Bizer, Georgi Kobilarov, Jens Lehmann, Richard Cyganiak, and Zachary Ives. DBpedia: A nucleus for a web of open data. In Proc. Int. Semant. Web Conf., pages 722–735, 2008.<BR>\n",
    "<a href=\"https://cs.stanford.edu/~jure/pubs/node2vec-kdd16.pdf\">[3] A. Grover, J. Leskovec, Node2vec: Scalable Feature Learning for Networks. ACM KDD, 2016.</a><BR>\n",
    " <a href=\"https://proceedings.neurips.cc/paper/2013/file/9aa42b31882ec039965f3c4923ce901b-Paper.pdf\">[4] T.Mikolov, I.Sutskever, K.Chen, G.S.Corrado and J.Dean, Distributed representations of words and phrases and their compositionality. In NIPS, 2013.</a><BR></font></html>"
   ]
  },
  {
   "cell_type": "code",
   "execution_count": null,
   "id": "03c70189",
   "metadata": {},
   "outputs": [],
   "source": []
  }
 ],
 "metadata": {
  "kernelspec": {
   "display_name": "Python 3",
   "language": "python",
   "name": "python3"
  },
  "language_info": {
   "codemirror_mode": {
    "name": "ipython",
    "version": 3
   },
   "file_extension": ".py",
   "mimetype": "text/x-python",
   "name": "python",
   "nbconvert_exporter": "python",
   "pygments_lexer": "ipython3",
   "version": "3.8.10"
  }
 },
 "nbformat": 4,
 "nbformat_minor": 5
}
