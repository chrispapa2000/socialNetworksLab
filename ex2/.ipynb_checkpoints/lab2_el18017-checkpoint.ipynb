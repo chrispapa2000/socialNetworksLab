{
 "cells": [
  {
   "cell_type": "markdown",
   "metadata": {},
   "source": [
    "<h2>2<sup>η</sup> ΕΡΓΑΣΤΗΡΙΑΚΗ ΑΣΚΗΣΗ</h2>\n",
    "<h3>Ανάλυση Κοινωνικής Δομής σε Τεχνητές και Πραγματικές Σύνθετες Τοπολογίες Δικτύων</h3>\n",
    "<p style=text-align:justify>Στην παρούσα άσκηση θα αναλυθούν τεχνητές και πραγματικές τοπολογίες σύνθετων δικτύων με βάση τις μετρικές που χρησιμοποιήθηκαν στην προηγούμενη άσκηση και κάποιες τεχνικές που έχουν ως στόχο την εύρεση κοινωνικής δομής. Συγκεκριμένα, θα χρησιμοποιηθούν και θα συγκριθούν διάφοροι αλγόριθμοι εντοπισμού κοινοτήτων σε γράφους δικτύων που προκύπτουν από πραγματικά δεδομένα καθώς και στους συνθετικούς γράφους της πρώτης εργαστηριακής άσκησης.</p>"
   ]
  },
  {
   "cell_type": "code",
   "execution_count": 106,
   "metadata": {},
   "outputs": [],
   "source": [
    "%matplotlib inline\n",
    "\n",
    "import matplotlib\n",
    "import networkx as nx\n",
    "import random\n",
    "import matplotlib.pyplot as plt\n",
    "import numpy as np\n",
    "import scipy as sp\n",
    "from sklearn.cluster import SpectralClustering\n",
    "import statistics\n",
    "from IPython.display import display, Markdown, Latex"
   ]
  },
  {
   "cell_type": "markdown",
   "metadata": {},
   "source": [
    "<h3>Α. Μελέτη πραγματικών τοπολογιών</h3>\n",
    "<p style=text-align:justify>Στο παρόν ερώτημα θα μελετήσετε και θα αποκτήσετε αίσθηση της τοπολογικής δομής πραγματικών δικτύων. Πιο συγκεκριμένα, για τις τοπολογίες που φαίνονται στον <b>πίνακα 1</b>, να βρεθούν και να δειχθούν:</p>\n",
    "<ol>\n",
    "    <li>Η κατανομή του βαθμού κόμβου και ο μέσος βαθμός κάθε τοπολογίας.</li>\n",
    "    <li>Η κατανομή του συντελεστή ομαδοποίησης κόμβου και ο μέσος συντελεστής ομαδοποίησης κάθε τοπολογίας.</li>\n",
    "    <li>Η κατανομή της κεντρικότητας εγγύτητας και η μέση κεντρικότητα εγγύτητας κάθε τοπολογίας.</li>\n",
    "</ol>\n",
    "<p style=text-align:justify>Να συγκριθούν τα αποτελέσματα σε σχέση με αυτά των συνθετικών τοπολογιών. Να χαρακτηρίσετε τον τύπο κάθε μίας από τις πραγματικές τοπολογίες με βάση τους τύπους δικτύων που εξετάστηκαν στην πρώτη εργαστηριακή άσκηση.</p>"
   ]
  },
  {
   "cell_type": "markdown",
   "metadata": {},
   "source": [
    "<table style=width:100%>\n",
    "    <caption>Πίνακας <b>1</b>: Πραγματικές τοπολογίες</a></caption>\n",
    "<tr>\n",
    "    <th style=text-align:left>Τοπολογία</th>\n",
    "    <th style=text-align:left>Αρχείο</th>\n",
    "    <th style=text-align:left>Περιγραφή</th>\n",
    "</tr>\n",
    "<tr>\n",
    "    <td style=text-align:left>American College Football</td>\n",
    "    <td style=text-align:left><a style=text-decoration:none href='http://www-personal.umich.edu/~mejn/netdata/football.zip'>football.gml</a></td>\n",
    "    <td style=text-align:left><p style=text-align:justify> The file <b>football.gml</b> contains the network of American football games between Division IA colleges during regular season Fall 2000, as compiled by M. Girvan and M. Newman. The nodes have values that indicate to which conferences they belong.</p>\n",
    "    </td>\n",
    "</tr>  \n",
    "<tr>\n",
    "    <td style=text-align:left>Game of Thrones - season 5</td>\n",
    "    <td style=text-align:left><a style=text-decoration:none href='https://networkofthrones.wordpress.com/the-series/season-5/'>GoT</a></td>\n",
    "    <td style=text-align:left><p style=text-align:justify> The season 5 <b>GoT</b> network represents the interactions between the characters of Game of Thrones in season 5. The season 5 network has 118 nodes (characters) and 394 weighted edges, corresponding to 5,139 interactions. Data can be found here: <a style=text-decoration:none href='https://raw.githubusercontent.com/mathbeveridge/gameofthrones/master/data/got-s5-edges.csv'>GoT_data</a></p>\n",
    "</tr> \n",
    "<tr>\n",
    "    <td style=text-align:left>email-Eu-core</td>\n",
    "    <td style=text-align:left><a style=text-decoration:none href='https://snap.stanford.edu/data/email-Eu-core.html'>email-eu-core</a></td>\n",
    "    <td style=text-align:left><p style=text-align:justify> The network <b>email-Eu-core</b> was generated using email data from a large European research institution. There is an edge (u, v) in the network if person u sent person v at least one email. The e-mails only represent communication between institution members (the core) and the dataset does not contain incoming messages from or outgoing messages to the rest of the world. The dataset also contains \"ground-truth\" community memberships of the nodes. Each individual belongs to exactly one of 42 departments at the research institute. </p>\n",
    "</tr> \n",
    "    \n",
    "</table>"
   ]
  },
  {
   "cell_type": "markdown",
   "metadata": {},
   "source": [
    "<h4>Παραγωγή συνθετικών τοπολογιών</h4> \n",
    "<p>Προσοχή! Τα δίκτυα που θα παράξετε θα πρέπει να είναι συνδεδεμένα.</p>"
   ]
  },
  {
   "cell_type": "code",
   "execution_count": 107,
   "metadata": {},
   "outputs": [
    {
     "name": "stdout",
     "output_type": "stream",
     "text": [
      "True\n",
      "True\n",
      "True\n",
      "True\n",
      "True\n"
     ]
    }
   ],
   "source": [
    "n=80\n",
    "d=4\n",
    "M=300\n",
    "R=0.25\n",
    "p=0.3\n",
    "k=4\n",
    "\n",
    "seedno=5\n",
    "\n",
    "random.seed(seedno)\n",
    "\n",
    "REG = nx.watts_strogatz_graph(n,d,0,seedno)\n",
    "print(nx.is_connected(REG))\n",
    "\n",
    "RGER =  nx.gnm_random_graph(n,M,seed=seedno,directed=False)\n",
    "print(nx.is_connected(RGER))\n",
    "\n",
    "R = 0.6\n",
    "RGG = nx.random_geometric_graph(n,R,seedno)\n",
    "# while not nx.is_connected(RGG):\n",
    "#     seedno2 = random.randint(2,10000)\n",
    "#     random.seed(seedno2)\n",
    "#     RGG = nx.random_geometric_graph(n,0.5,seedno2)\n",
    "print(nx.is_connected(RGG))\n",
    "\n",
    "SF = nx.barabasi_albert_graph(n,d,seed=seedno)\n",
    "print(nx.is_connected(SF))\n",
    "\n",
    "SW = nx.watts_strogatz_graph(n,d,p) \n",
    "print(nx.is_connected(SW))"
   ]
  },
  {
   "cell_type": "markdown",
   "metadata": {},
   "source": [
    "<h4>Εισαγωγή και οπτικοποίηση πραγματικών τοπολογιών.</h4>"
   ]
  },
  {
   "cell_type": "code",
   "execution_count": 108,
   "metadata": {},
   "outputs": [],
   "source": [
    "#football network\n",
    "football=nx.read_gml(r\"football.gml\")"
   ]
  },
  {
   "cell_type": "code",
   "execution_count": 109,
   "metadata": {},
   "outputs": [],
   "source": [
    "#Game of thrones network\n",
    "import csv\n",
    "got=nx.Graph()\n",
    "with open('got_s5.csv') as csv_file:\n",
    "    csv_reader = csv.reader(csv_file, delimiter=',')\n",
    "    line_count = 0\n",
    "    next(csv_reader)\n",
    "    for row in csv_reader:\n",
    "        got.add_edge(row[0],row[1])\n",
    "        line_count += 1"
   ]
  },
  {
   "cell_type": "markdown",
   "metadata": {},
   "source": [
    "#### Προσοχή! Θα μελετήσετε τη μεγαλύτερη συνδεδεμένη συνιστώσα του δικτύου email-Eu-core, αφού πρώτα αφαιρέσετε τα self-loops. Μπορείτε να κάνετε χρήση των συναρτήσεων connected_components, subgraph, remove_edges_from του networkx."
   ]
  },
  {
   "cell_type": "code",
   "execution_count": 110,
   "metadata": {},
   "outputs": [],
   "source": [
    "#email-Eu-core network\n",
    "eu=nx.read_edgelist(\"email-Eu-core.txt\",create_using=nx.Graph())"
   ]
  },
  {
   "cell_type": "code",
   "execution_count": 111,
   "metadata": {},
   "outputs": [
    {
     "name": "stdout",
     "output_type": "stream",
     "text": [
      "Edges in largest connected component before removing self loops: 16687\n",
      "Edges in largest connected component after removing self loops: 16064\n"
     ]
    }
   ],
   "source": [
    "# find largest connected component\n",
    "largest_con_comp = max(nx.connected_components(eu), key=len)\n",
    "\n",
    "# find induced subgraph\n",
    "largest_con_subgraph_eu = eu.subgraph(largest_con_comp)\n",
    "print(f\"Edges in largest connected component before removing self loops: {len(largest_con_subgraph_eu.edges)}\")\n",
    "\n",
    "# find self loops\n",
    "self_loops = []\n",
    "for node in largest_con_subgraph_eu.nodes:\n",
    "    if (node, node) in largest_con_subgraph_eu.edges:\n",
    "        self_loops.append((node,node))\n",
    "        \n",
    "eu.remove_edges_from(self_loops)\n",
    "print(f\"Edges in largest connected component after removing self loops: {len(largest_con_subgraph_eu.edges)}\")"
   ]
  },
  {
   "cell_type": "markdown",
   "metadata": {},
   "source": [
    "<h4>Μελέτη βαθμού κόμβου για πραγματικές και συνθετικές τοπολογίες.</h4>"
   ]
  },
  {
   "cell_type": "code",
   "execution_count": 112,
   "metadata": {},
   "outputs": [],
   "source": [
    "# function that plots degree distribution and return mean degree\n",
    "\n",
    "def find_degree(G):\n",
    "    degs = G.degree\n",
    "    degrees = [b for (a,b) in degs]\n",
    "    plt.hist(degrees, color='magenta')\n",
    "    plt.title(\"Distribution of Degrees\", fontsize=15)\n",
    "    plt.xlabel(\"Degree\", fontsize=13)\n",
    "    plt.ylabel(\"#nodes\", fontsize=13)\n",
    "    plt.show()\n",
    "    \n",
    "    return statistics.mean(degrees), statistics.variance(degrees)"
   ]
  },
  {
   "cell_type": "markdown",
   "metadata": {},
   "source": [
    "_Πραγματικές Τοπολογίες:_"
   ]
  },
  {
   "cell_type": "code",
   "execution_count": 113,
   "metadata": {},
   "outputs": [
    {
     "data": {
      "text/markdown": [
       "**Football**"
      ],
      "text/plain": [
       "<IPython.core.display.Markdown object>"
      ]
     },
     "metadata": {},
     "output_type": "display_data"
    },
    {
     "data": {
      "image/png": "[encoded data removed]",
      "text/plain": [
       "<Figure size 432x288 with 1 Axes>"
      ]
     },
     "metadata": {
      "needs_background": "light"
     },
     "output_type": "display_data"
    },
    {
     "name": "stdout",
     "output_type": "stream",
     "text": [
      "Mean Degree: 10.660869565217391\n"
     ]
    }
   ],
   "source": [
    "# football \n",
    "display(Markdown(\"**Football**\"))\n",
    "mmean, _ = find_degree(football)\n",
    "print(f\"Mean Degree: {mmean}\")"
   ]
  },
  {
   "cell_type": "code",
   "execution_count": 114,
   "metadata": {},
   "outputs": [
    {
     "data": {
      "text/markdown": [
       "**GoT**"
      ],
      "text/plain": [
       "<IPython.core.display.Markdown object>"
      ]
     },
     "metadata": {},
     "output_type": "display_data"
    },
    {
     "data": {
      "image/png": "[encoded data removed]",
      "text/plain": [
       "<Figure size 432x288 with 1 Axes>"
      ]
     },
     "metadata": {
      "needs_background": "light"
     },
     "output_type": "display_data"
    },
    {
     "name": "stdout",
     "output_type": "stream",
     "text": [
      "Mean Degree: 6.65546218487395\n"
     ]
    }
   ],
   "source": [
    "# Game of Throwns\n",
    "display(Markdown(\"**GoT**\"))\n",
    "mmean, _ = find_degree(got)\n",
    "print(f\"Mean Degree: {mmean}\")"
   ]
  },
  {
   "cell_type": "code",
   "execution_count": 115,
   "metadata": {},
   "outputs": [
    {
     "data": {
      "text/markdown": [
       "**EU**"
      ],
      "text/plain": [
       "<IPython.core.display.Markdown object>"
      ]
     },
     "metadata": {},
     "output_type": "display_data"
    },
    {
     "data": {
      "image/png": "[encoded data removed]",
      "text/plain": [
       "<Figure size 432x288 with 1 Axes>"
      ]
     },
     "metadata": {
      "needs_background": "light"
     },
     "output_type": "display_data"
    },
    {
     "name": "stdout",
     "output_type": "stream",
     "text": [
      "Mean Degree: 32.5841784989858\n"
     ]
    }
   ],
   "source": [
    "# EU\n",
    "display(Markdown(\"**EU**\"))\n",
    "mmean, _ = find_degree(largest_con_subgraph_eu)\n",
    "print(f\"Mean Degree: {mmean}\")"
   ]
  },
  {
   "cell_type": "markdown",
   "metadata": {},
   "source": [
    "_Συνθετικές Τοπολογίες:_"
   ]
  },
  {
   "cell_type": "code",
   "execution_count": 116,
   "metadata": {},
   "outputs": [
    {
     "data": {
      "text/markdown": [
       "**REG**"
      ],
      "text/plain": [
       "<IPython.core.display.Markdown object>"
      ]
     },
     "metadata": {},
     "output_type": "display_data"
    },
    {
     "data": {
      "image/png": "[encoded data removed]",
      "text/plain": [
       "<Figure size 432x288 with 1 Axes>"
      ]
     },
     "metadata": {
      "needs_background": "light"
     },
     "output_type": "display_data"
    },
    {
     "name": "stdout",
     "output_type": "stream",
     "text": [
      "Mean Degree: 4\n"
     ]
    }
   ],
   "source": [
    "# REG\n",
    "display(Markdown(\"**REG**\"))\n",
    "mmean, _ = find_degree(REG)\n",
    "print(f\"Mean Degree: {mmean}\")"
   ]
  },
  {
   "cell_type": "code",
   "execution_count": 117,
   "metadata": {},
   "outputs": [
    {
     "data": {
      "text/markdown": [
       "**RGER**"
      ],
      "text/plain": [
       "<IPython.core.display.Markdown object>"
      ]
     },
     "metadata": {},
     "output_type": "display_data"
    },
    {
     "data": {
      "image/png": "[encoded data removed]",
      "text/plain": [
       "<Figure size 432x288 with 1 Axes>"
      ]
     },
     "metadata": {
      "needs_background": "light"
     },
     "output_type": "display_data"
    },
    {
     "name": "stdout",
     "output_type": "stream",
     "text": [
      "Mean Degree: 7.5\n"
     ]
    }
   ],
   "source": [
    "# RGER\n",
    "# EU\n",
    "display(Markdown(\"**RGER**\"))\n",
    "mmean, _ = find_degree(RGER)\n",
    "print(f\"Mean Degree: {mmean}\")"
   ]
  },
  {
   "cell_type": "code",
   "execution_count": 118,
   "metadata": {},
   "outputs": [
    {
     "data": {
      "text/markdown": [
       "**RGG**"
      ],
      "text/plain": [
       "<IPython.core.display.Markdown object>"
      ]
     },
     "metadata": {},
     "output_type": "display_data"
    },
    {
     "data": {
      "image/png": "[encoded data removed]",
      "text/plain": [
       "<Figure size 432x288 with 1 Axes>"
      ]
     },
     "metadata": {
      "needs_background": "light"
     },
     "output_type": "display_data"
    },
    {
     "name": "stdout",
     "output_type": "stream",
     "text": [
      "Mean Degree: 10.575\n"
     ]
    }
   ],
   "source": [
    "# RGG\n",
    "display(Markdown(\"**RGG**\"))\n",
    "mmean, _ = find_degree(RGG)\n",
    "print(f\"Mean Degree: {mmean}\")"
   ]
  },
  {
   "cell_type": "code",
   "execution_count": 119,
   "metadata": {},
   "outputs": [
    {
     "data": {
      "text/markdown": [
       "**SF**"
      ],
      "text/plain": [
       "<IPython.core.display.Markdown object>"
      ]
     },
     "metadata": {},
     "output_type": "display_data"
    },
    {
     "data": {
      "image/png": "[encoded data removed]",
      "text/plain": [
       "<Figure size 432x288 with 1 Axes>"
      ]
     },
     "metadata": {
      "needs_background": "light"
     },
     "output_type": "display_data"
    },
    {
     "name": "stdout",
     "output_type": "stream",
     "text": [
      "Mean Degree: 7.6\n"
     ]
    }
   ],
   "source": [
    "# SF\n",
    "display(Markdown(\"**SF**\"))\n",
    "mmean, _ = find_degree(SF)\n",
    "print(f\"Mean Degree: {mmean}\")"
   ]
  },
  {
   "cell_type": "code",
   "execution_count": 120,
   "metadata": {},
   "outputs": [
    {
     "data": {
      "text/markdown": [
       "**SW**"
      ],
      "text/plain": [
       "<IPython.core.display.Markdown object>"
      ]
     },
     "metadata": {},
     "output_type": "display_data"
    },
    {
     "data": {
      "image/png": "[encoded data removed]",
      "text/plain": [
       "<Figure size 432x288 with 1 Axes>"
      ]
     },
     "metadata": {
      "needs_background": "light"
     },
     "output_type": "display_data"
    },
    {
     "name": "stdout",
     "output_type": "stream",
     "text": [
      "Mean Degree: 4\n"
     ]
    }
   ],
   "source": [
    "# SW\n",
    "display(Markdown(\"**SW**\"))\n",
    "mmean, _ = find_degree(SW)\n",
    "print(f\"Mean Degree: {mmean}\")"
   ]
  },
  {
   "cell_type": "markdown",
   "metadata": {},
   "source": [
    "<h4>Μελέτη συντελεστή ομαδοποίησης για πραγματικές και συνθετικές τοπολογίες</h4>"
   ]
  },
  {
   "cell_type": "code",
   "execution_count": 121,
   "metadata": {},
   "outputs": [],
   "source": [
    "# function that plots cc and return cc statistics\n",
    "\n",
    "def cc(graph):\n",
    "    # get clustering coefficient\n",
    "    GraphCC = dict(nx.clustering(graph))\n",
    "    vals = list(GraphCC.values())\n",
    "    \n",
    "    # plot\n",
    "    fig, ax = plt.subplots()\n",
    "    ax.hist(vals, np.linspace(0,1, 10), color='magenta')\n",
    "    ax.set_xticks([i/10 for i in range(11)])\n",
    "\n",
    "    plt.title(\"Clustering Coefficient Distribution\", fontsize=15)\n",
    "    plt.xlabel(\"Clustering Coefficient\", fontsize=13)\n",
    "    plt.ylabel(\"#nodes\", fontsize=13)\n",
    "    plt.show()\n",
    "    \n",
    "    # mean and var\n",
    "    mmean = statistics.mean(vals) \n",
    "    vvar = statistics.variance(vals)\n",
    "    \n",
    "    mmax, mmin = vals.index(max(vals)), vals.index(min(vals)) \n",
    "    return mmean, vvar, mmax, mmin"
   ]
  },
  {
   "cell_type": "markdown",
   "metadata": {},
   "source": [
    "_Πραγματικές Τοπολογίες:_"
   ]
  },
  {
   "cell_type": "code",
   "execution_count": 122,
   "metadata": {},
   "outputs": [
    {
     "data": {
      "text/markdown": [
       "**Football**"
      ],
      "text/plain": [
       "<IPython.core.display.Markdown object>"
      ]
     },
     "metadata": {},
     "output_type": "display_data"
    },
    {
     "data": {
      "image/png": "[encoded data removed]",
      "text/plain": [
       "<Figure size 432x288 with 1 Axes>"
      ]
     },
     "metadata": {
      "needs_background": "light"
     },
     "output_type": "display_data"
    },
    {
     "name": "stdout",
     "output_type": "stream",
     "text": [
      "Mean CC: 0.403216011042098\n"
     ]
    }
   ],
   "source": [
    "# Football\n",
    "display(Markdown(\"**Football**\"))\n",
    "mmean, _, _, _ = cc(football)\n",
    "print(f\"Mean CC: {mmean}\")"
   ]
  },
  {
   "cell_type": "code",
   "execution_count": 123,
   "metadata": {},
   "outputs": [
    {
     "data": {
      "text/markdown": [
       "**GoT**"
      ],
      "text/plain": [
       "<IPython.core.display.Markdown object>"
      ]
     },
     "metadata": {},
     "output_type": "display_data"
    },
    {
     "data": {
      "image/png": "[encoded data removed]",
      "text/plain": [
       "<Figure size 432x288 with 1 Axes>"
      ]
     },
     "metadata": {
      "needs_background": "light"
     },
     "output_type": "display_data"
    },
    {
     "name": "stdout",
     "output_type": "stream",
     "text": [
      "Mean CC: 0.5744036387164707\n"
     ]
    }
   ],
   "source": [
    "# GoT\n",
    "display(Markdown(\"**GoT**\"))\n",
    "mmean, _, _, _ = cc(got)\n",
    "print(f\"Mean CC: {mmean}\")"
   ]
  },
  {
   "cell_type": "code",
   "execution_count": 124,
   "metadata": {},
   "outputs": [
    {
     "data": {
      "text/markdown": [
       "**EU**"
      ],
      "text/plain": [
       "<IPython.core.display.Markdown object>"
      ]
     },
     "metadata": {},
     "output_type": "display_data"
    },
    {
     "data": {
      "image/png": "[encoded data removed]",
      "text/plain": [
       "<Figure size 432x288 with 1 Axes>"
      ]
     },
     "metadata": {
      "needs_background": "light"
     },
     "output_type": "display_data"
    },
    {
     "name": "stdout",
     "output_type": "stream",
     "text": [
      "Mean CC: 0.4070504475195386\n"
     ]
    }
   ],
   "source": [
    "# EU\n",
    "display(Markdown(\"**EU**\"))\n",
    "mmean, _, _, _ = cc(largest_con_subgraph_eu)\n",
    "print(f\"Mean CC: {mmean}\")"
   ]
  },
  {
   "cell_type": "markdown",
   "metadata": {},
   "source": [
    "_Συνθετικές Τοπολογίες:_"
   ]
  },
  {
   "cell_type": "code",
   "execution_count": 125,
   "metadata": {},
   "outputs": [
    {
     "data": {
      "text/markdown": [
       "**REG**"
      ],
      "text/plain": [
       "<IPython.core.display.Markdown object>"
      ]
     },
     "metadata": {},
     "output_type": "display_data"
    },
    {
     "data": {
      "image/png": "[encoded data removed]",
      "text/plain": [
       "<Figure size 432x288 with 1 Axes>"
      ]
     },
     "metadata": {
      "needs_background": "light"
     },
     "output_type": "display_data"
    },
    {
     "name": "stdout",
     "output_type": "stream",
     "text": [
      "Mean CC: 0.5\n"
     ]
    }
   ],
   "source": [
    "# REG\n",
    "display(Markdown(\"**REG**\"))\n",
    "mmean, _, _, _ = cc(REG)\n",
    "print(f\"Mean CC: {mmean}\")"
   ]
  },
  {
   "cell_type": "code",
   "execution_count": 126,
   "metadata": {},
   "outputs": [
    {
     "data": {
      "text/markdown": [
       "**RGER**"
      ],
      "text/plain": [
       "<IPython.core.display.Markdown object>"
      ]
     },
     "metadata": {},
     "output_type": "display_data"
    },
    {
     "data": {
      "image/png": "[encoded data removed]",
      "text/plain": [
       "<Figure size 432x288 with 1 Axes>"
      ]
     },
     "metadata": {
      "needs_background": "light"
     },
     "output_type": "display_data"
    },
    {
     "name": "stdout",
     "output_type": "stream",
     "text": [
      "Mean CC: 0.08497775916893564\n"
     ]
    }
   ],
   "source": [
    "# RGER\n",
    "display(Markdown(\"**RGER**\"))\n",
    "mmean, _, _, _ = cc(RGER)\n",
    "print(f\"Mean CC: {mmean}\")"
   ]
  },
  {
   "cell_type": "code",
   "execution_count": 127,
   "metadata": {},
   "outputs": [
    {
     "data": {
      "text/markdown": [
       "**RGG**"
      ],
      "text/plain": [
       "<IPython.core.display.Markdown object>"
      ]
     },
     "metadata": {},
     "output_type": "display_data"
    },
    {
     "data": {
      "image/png": "[encoded data removed]",
      "text/plain": [
       "<Figure size 432x288 with 1 Axes>"
      ]
     },
     "metadata": {
      "needs_background": "light"
     },
     "output_type": "display_data"
    },
    {
     "name": "stdout",
     "output_type": "stream",
     "text": [
      "Mean CC: 0.49414340756852365\n"
     ]
    }
   ],
   "source": [
    "# RGG\n",
    "display(Markdown(\"**RGG**\"))\n",
    "mmean, _, _, _ = cc(RGG)\n",
    "print(f\"Mean CC: {mmean}\")"
   ]
  },
  {
   "cell_type": "code",
   "execution_count": 129,
   "metadata": {},
   "outputs": [
    {
     "data": {
      "text/markdown": [
       "**SF**"
      ],
      "text/plain": [
       "<IPython.core.display.Markdown object>"
      ]
     },
     "metadata": {},
     "output_type": "display_data"
    },
    {
     "data": {
      "image/png": "[encoded data removed]",
      "text/plain": [
       "<Figure size 432x288 with 1 Axes>"
      ]
     },
     "metadata": {
      "needs_background": "light"
     },
     "output_type": "display_data"
    },
    {
     "name": "stdout",
     "output_type": "stream",
     "text": [
      "Mean CC: 0.22922761606585135\n"
     ]
    }
   ],
   "source": [
    "# SF\n",
    "display(Markdown(\"**SF**\"))\n",
    "mmean, _, _, _ = cc(SF)\n",
    "print(f\"Mean CC: {mmean}\")"
   ]
  },
  {
   "cell_type": "code",
   "execution_count": 130,
   "metadata": {},
   "outputs": [
    {
     "data": {
      "text/markdown": [
       "**SW**"
      ],
      "text/plain": [
       "<IPython.core.display.Markdown object>"
      ]
     },
     "metadata": {},
     "output_type": "display_data"
    },
    {
     "data": {
      "image/png": "[encoded data removed]",
      "text/plain": [
       "<Figure size 432x288 with 1 Axes>"
      ]
     },
     "metadata": {
      "needs_background": "light"
     },
     "output_type": "display_data"
    },
    {
     "name": "stdout",
     "output_type": "stream",
     "text": [
      "Mean CC: 0.1568452380952381\n"
     ]
    }
   ],
   "source": [
    "# SW\n",
    "display(Markdown(\"**SW**\"))\n",
    "mmean, _, _, _ = cc(SW)\n",
    "print(f\"Mean CC: {mmean}\")"
   ]
  },
  {
   "cell_type": "markdown",
   "metadata": {},
   "source": [
    "<h4>Μελέτη κεντρικότητας εγγύτητας για πραγματικές και συνθετικές τοπολογίες </h4>"
   ]
  },
  {
   "cell_type": "code",
   "execution_count": 131,
   "metadata": {},
   "outputs": [],
   "source": [
    "# function that plots closeness centrality and returns its mean value\n",
    "\n",
    "def find_closeness(G):\n",
    "    close_cen = nx.closeness_centrality(G)\n",
    "    close_cen_values = [round(item, 10) for item in close_cen.values()]\n",
    "    plt.hist(close_cen_values, color='magenta')\n",
    "    plt.title(\"Distribution of Closeness Centrality\", fontsize=15)\n",
    "    plt.xlabel(\"Closeness Centrality\",fontsize=13)\n",
    "    plt.ylabel(\"#nodes\",fontsize=13)\n",
    "    plt.show()\n",
    "    return statistics.mean(close_cen_values), \\\n",
    "            statistics.variance(close_cen_values)"
   ]
  },
  {
   "cell_type": "markdown",
   "metadata": {},
   "source": [
    "_Πραγματικές τοπολογίες_:"
   ]
  },
  {
   "cell_type": "code",
   "execution_count": 135,
   "metadata": {},
   "outputs": [
    {
     "data": {
      "text/markdown": [
       "**Football**"
      ],
      "text/plain": [
       "<IPython.core.display.Markdown object>"
      ]
     },
     "metadata": {},
     "output_type": "display_data"
    },
    {
     "data": {
      "image/png": "[encoded data removed]",
      "text/plain": [
       "<Figure size 432x288 with 1 Axes>"
      ]
     },
     "metadata": {
      "needs_background": "light"
     },
     "output_type": "display_data"
    },
    {
     "name": "stdout",
     "output_type": "stream",
     "text": [
      "Mean Closeness Centrality: 0.399319078246087\n"
     ]
    }
   ],
   "source": [
    "# football\n",
    "display(Markdown(\"**Football**\"))\n",
    "mmean, _ = find_closeness(football)\n",
    "print(f\"Mean Closeness Centrality: {mmean}\")"
   ]
  },
  {
   "cell_type": "code",
   "execution_count": 136,
   "metadata": {},
   "outputs": [
    {
     "data": {
      "text/markdown": [
       "**GoT**"
      ],
      "text/plain": [
       "<IPython.core.display.Markdown object>"
      ]
     },
     "metadata": {},
     "output_type": "display_data"
    },
    {
     "data": {
      "image/png": "[encoded data removed]",
      "text/plain": [
       "<Figure size 432x288 with 1 Axes>"
      ]
     },
     "metadata": {
      "needs_background": "light"
     },
     "output_type": "display_data"
    },
    {
     "name": "stdout",
     "output_type": "stream",
     "text": [
      "Mean Closeness Centrality: 0.31905170483361345\n"
     ]
    }
   ],
   "source": [
    "# GoT\n",
    "display(Markdown(\"**GoT**\"))\n",
    "mmean, _ = find_closeness(got)\n",
    "print(f\"Mean Closeness Centrality: {mmean}\")"
   ]
  },
  {
   "cell_type": "code",
   "execution_count": 138,
   "metadata": {},
   "outputs": [
    {
     "data": {
      "text/markdown": [
       "**EU**"
      ],
      "text/plain": [
       "<IPython.core.display.Markdown object>"
      ]
     },
     "metadata": {},
     "output_type": "display_data"
    },
    {
     "data": {
      "image/png": "[encoded data removed]",
      "text/plain": [
       "<Figure size 432x288 with 1 Axes>"
      ]
     },
     "metadata": {
      "needs_background": "light"
     },
     "output_type": "display_data"
    },
    {
     "name": "stdout",
     "output_type": "stream",
     "text": [
      "Mean Closeness Centrality: 0.37968268365432833\n"
     ]
    }
   ],
   "source": [
    "# EU\n",
    "display(Markdown(\"**EU**\"))\n",
    "mmean, _ = find_closeness(eu)\n",
    "print(f\"Mean Closeness Centrality: {mmean}\")"
   ]
  },
  {
   "cell_type": "markdown",
   "metadata": {},
   "source": [
    "_Συνθετικές Τοπολογίες:_"
   ]
  },
  {
   "cell_type": "code",
   "execution_count": 139,
   "metadata": {},
   "outputs": [
    {
     "data": {
      "text/markdown": [
       "**REG**"
      ],
      "text/plain": [
       "<IPython.core.display.Markdown object>"
      ]
     },
     "metadata": {},
     "output_type": "display_data"
    },
    {
     "data": {
      "image/png": "[encoded data removed]",
      "text/plain": [
       "<Figure size 432x288 with 1 Axes>"
      ]
     },
     "metadata": {
      "needs_background": "light"
     },
     "output_type": "display_data"
    },
    {
     "name": "stdout",
     "output_type": "stream",
     "text": [
      "Mean Closeness Centrality: 0.0963414634\n"
     ]
    }
   ],
   "source": [
    "# REG\n",
    "display(Markdown(\"**REG**\"))\n",
    "mmean, _ = find_closeness(REG)\n",
    "print(f\"Mean Closeness Centrality: {mmean}\")"
   ]
  },
  {
   "cell_type": "code",
   "execution_count": 140,
   "metadata": {},
   "outputs": [
    {
     "data": {
      "text/markdown": [
       "**RGER**"
      ],
      "text/plain": [
       "<IPython.core.display.Markdown object>"
      ]
     },
     "metadata": {},
     "output_type": "display_data"
    },
    {
     "data": {
      "image/png": "[encoded data removed]",
      "text/plain": [
       "<Figure size 432x288 with 1 Axes>"
      ]
     },
     "metadata": {
      "needs_background": "light"
     },
     "output_type": "display_data"
    },
    {
     "name": "stdout",
     "output_type": "stream",
     "text": [
      "Mean Closeness Centrality: 0.4242297800925\n"
     ]
    }
   ],
   "source": [
    "# RGER\n",
    "display(Markdown(\"**RGER**\"))\n",
    "mmean, _ = find_closeness(RGER)\n",
    "print(f\"Mean Closeness Centrality: {mmean}\")"
   ]
  },
  {
   "cell_type": "code",
   "execution_count": 141,
   "metadata": {},
   "outputs": [
    {
     "data": {
      "text/markdown": [
       "**RGG**"
      ],
      "text/plain": [
       "<IPython.core.display.Markdown object>"
      ]
     },
     "metadata": {},
     "output_type": "display_data"
    },
    {
     "data": {
      "image/png": "[encoded data removed]",
      "text/plain": [
       "<Figure size 432x288 with 1 Axes>"
      ]
     },
     "metadata": {
      "needs_background": "light"
     },
     "output_type": "display_data"
    },
    {
     "name": "stdout",
     "output_type": "stream",
     "text": [
      "Mean Closeness Centrality: 0.42981828743\n"
     ]
    }
   ],
   "source": [
    "# RGG\n",
    "display(Markdown(\"**RGG**\"))\n",
    "mmean, _ = find_closeness(RGG)\n",
    "print(f\"Mean Closeness Centrality: {mmean}\")"
   ]
  },
  {
   "cell_type": "code",
   "execution_count": 142,
   "metadata": {},
   "outputs": [
    {
     "data": {
      "text/markdown": [
       "**SF**"
      ],
      "text/plain": [
       "<IPython.core.display.Markdown object>"
      ]
     },
     "metadata": {},
     "output_type": "display_data"
    },
    {
     "data": {
      "image/png": "[encoded data removed]",
      "text/plain": [
       "<Figure size 432x288 with 1 Axes>"
      ]
     },
     "metadata": {
      "needs_background": "light"
     },
     "output_type": "display_data"
    },
    {
     "name": "stdout",
     "output_type": "stream",
     "text": [
      "Mean Closeness Centrality: 0.446445383785\n"
     ]
    }
   ],
   "source": [
    "# SF\n",
    "display(Markdown(\"**SF**\"))\n",
    "mmean, _ = find_closeness(SF)\n",
    "print(f\"Mean Closeness Centrality: {mmean}\")"
   ]
  },
  {
   "cell_type": "code",
   "execution_count": 143,
   "metadata": {},
   "outputs": [
    {
     "data": {
      "text/markdown": [
       "**SW**"
      ],
      "text/plain": [
       "<IPython.core.display.Markdown object>"
      ]
     },
     "metadata": {},
     "output_type": "display_data"
    },
    {
     "data": {
      "image/png": "[encoded data removed]",
      "text/plain": [
       "<Figure size 432x288 with 1 Axes>"
      ]
     },
     "metadata": {
      "needs_background": "light"
     },
     "output_type": "display_data"
    },
    {
     "name": "stdout",
     "output_type": "stream",
     "text": [
      "Mean Closeness Centrality: 0.28575810067375\n"
     ]
    }
   ],
   "source": [
    "# SW\n",
    "display(Markdown(\"**SW**\"))\n",
    "mmean, _ = find_closeness(SW)\n",
    "print(f\"Mean Closeness Centrality: {mmean}\")"
   ]
  },
  {
   "cell_type": "markdown",
   "metadata": {},
   "source": [
    "<h3>B. Εξοικείωση με τα εργαλεία εντοπισμού κοινοτήτων</h3>\n",
    "<ol>\n",
    "<li>Χρησιμοποιώντας τις συναρτήσεις του <b>πίνακα 2</b> για κάθε <u>πραγματικό</u> (<b>πίνακας 1</b>) και <u>συνθετικό</u> (από την <b>άσκηση 1</b>) δίκτυο:</p>\n",
    "<ol>\n",
    "    <li>να οπτικοποιηθούν οι κοινότητες που προκύπτουν από την κάθε μέθοδο,</li>\n",
    "    <li>να γίνουν οι απαραίτητοι σχολιασμοί (π.χ: σύγκριση του αριθμού των κοινοτήτων που υπολογίζει ο κάθε αλγόριθμος).</li>\n",
    "</ol>\n",
    "<p>Για την οπτικοποίηση, να επισημανθεί διαφορετικά κάθε κοινότητα, π.χ. με διαφορετικό χρώμα.</p>\n",
    "<p style=text-align:justify>Στην περίπτωση των συνθετικών δικτύων, να πραγματοποιηθούν συγκρίσεις και μεταξύ των διαφορετικών τύπων τοπολογιών. Για παράδειγμα, στην περίπτωση του τυχαίου γεωμετρικού γράφου, υπάρχει διαισθητικά μία κοινότητα γύρω από κάθε κόμβο που δημιουργείται με βάση τις αποστάσεις του τελευταίου από τους υπόλοιπους κόμβους του δικτύου. Στην περίπτωση των scale-free δικτύων, είναι πιθανό να σχηματίζονται κοινότητες γύρω από τους κόμβους με μεγάλο βαθμό.</p>\n",
    "<li>Για κάθε αλγόριθμο εντοπισμού κοινοτήτων και για κάθε τοπολογία αξιολογήστε την ποιότητα της διαμέρισης με τις μετρικές performance και modularity (<a style=text-decoration:none href='https://networkx.org/documentation/stable/reference/algorithms/community.html#module-networkx.algorithms.community.quality'>measuring_partitions</a>). Για την μετρική performance, θα χρησιμοποιήσετε την συνάρτηση partition_quality του networkx.</li>\n",
    "<li>Για την μεγαλύτερη συνδεδεμένη συνιστώσα του email-Eu-core, να συγκρίνετε την ground-truth διαμέριση που δίνεται στο αρχείο Email-Eu-core-department-labels.txt με τις διαμερίσεις που προκύπτουν από τις εξεταζόμενες μεθόδους ως προς το πλήθος των παραγόμενων κοινοτήτων και ως προς τις μετρικές performance και modularity. </li>\n",
    "<li>Για την παρακολούθηση του χρόνου εκτέλεσης της υλοποίησής σας, μπορείτε να χρησιμοποιήσετε την βιβλιοθήκη <a style=text-decoration:none href='https://tqdm.github.io/'>tqdm</a>. Στο σχολιασμό σας να λάβετε υπόψη το trade-off της ποιότητας της διαμέρισης και του χρόνου εκτέλεσης των εξεταζόμενων αλγορίθμων. </li>\n",
    "</ol>"
   ]
  },
  {
   "cell_type": "markdown",
   "metadata": {},
   "source": [
    "<table style=float:left;width:70%>\n",
    "    <caption>Πίνακας <b>2</b>: Συναρτήσεις εντοπισμού κοινοτήτων</caption>\n",
    "    <tr>\n",
    "        <th style=text-align:left> Μέθοδος εντοπισμού κοινοτήτων</th>\n",
    "        <th style=text-align:left>Συνάρτηση</th>\n",
    "    </tr>\n",
    "    <tr>\n",
    "        <td style=text-align:left>Spectral Clustering</td>\n",
    "        <td style=text-align:left><a style=text-decoration:none href='http://scikit-learn.org/stable/modules/generated/sklearn.cluster.SpectralClustering.html'>SpectralClustering</a></td>\n",
    "    </tr>\n",
    "       <tr>\n",
    "        <td style=text-align:left>Newman-Girvan</td>\n",
    "        <td style=text-align:left><a style=text-decoration:none                               href='https://networkx.github.io/documentation/latest/reference/algorithms/generated/networkx.algorithms.community.centrality.girvan_newman.html'>girvan_newman</a></td>\n",
    "    </tr>\n",
    "    <tr>\n",
    "        <td style=text-align:left>Modularity Maximization</td>\n",
    "        <td style=text-align:left><a style=text-decoration:none                               href='https://networkx.github.io/documentation/latest/reference/algorithms/generated/networkx.algorithms.community.modularity_max.greedy_modularity_communities.html'>greedy_modularity_communities</a></td>\n",
    "    </tr>\n",
    "</table>\n",
    "    "
   ]
  },
  {
   "cell_type": "markdown",
   "metadata": {},
   "source": [
    "<p style=text-align:justify>Προτού εφαρμόσετε τις συναρτήσεις εντοπισμού κοινοτήτων μελετήστε προσεκτικά την <b>είσοδο που απαιτούν καθώς και τη μορφή εξόδου που παράγουν.</b></p>"
   ]
  },
  {
   "cell_type": "code",
   "execution_count": null,
   "metadata": {},
   "outputs": [],
   "source": [
    "#Χρησιμοποιήστε την συνάρτηση conv2int για να μετατρέψετε τα labels των κόμβων στις πραγματικ΄ές τοπολογίες σε integers\n",
    "def conv2int(G,start_value):\n",
    "    nG = nx.convert_node_labels_to_integers(G,first_label=start_value)\n",
    "    G_mapping=dict(enumerate(G.nodes,0))\n",
    "    return nG,G_mapping"
   ]
  },
  {
   "cell_type": "markdown",
   "metadata": {},
   "source": [
    "<h4> Ορισμός χρωμάτων για την οπτικοποίηση των κοινοτήτων.</h4>"
   ]
  },
  {
   "cell_type": "code",
   "execution_count": null,
   "metadata": {},
   "outputs": [],
   "source": [
    "#insert colors for nodes\n",
    "from matplotlib import colors as mcolors\n",
    "colors = list(dict(mcolors.BASE_COLORS, **mcolors.CSS4_COLORS).keys())"
   ]
  },
  {
   "cell_type": "markdown",
   "metadata": {},
   "source": [
    "<h4>Εντοπισμός κοινοτήτων σε συνθετικά και πραγματικά δίκτυα με τη μέθοδο Newman-Girvan.</h4>\n",
    "<p>Παράξτε τις διαμερίσεις που προκύπτουν από την μέθοδο Newman-Girvan. Ελέγξτε τις διαμερίσεις που έχουν μέχρι και 50 κοινότητες.</p> \n",
    "<p> Επιλέξτε τις διαμερίσεις με το 1) μεγαλύτερο modularity score και 2) performance score για κάθε πραγματικό και συνθετικό δίκτυο.</p>"
   ]
  },
  {
   "cell_type": "code",
   "execution_count": null,
   "metadata": {},
   "outputs": [],
   "source": []
  },
  {
   "cell_type": "markdown",
   "metadata": {},
   "source": [
    "<h4>Εντοπισμός κοινοτήτων σε συνθετικά και πραγματικά δίκτυα με τη μέθοδο Spectral Clustering. </h4>\n",
    "Προσοχή! Για την επιλογή της τιμής της παραμέτρου που αφορά στην διάσταση του projection subspace (n_clusters) της συνάρτησης SpectralClustering, θα πρέπει να λάβετε υπόψη το μέγεθος |V| του εκάστοτε δικτύου.\n",
    "<p>Να εξετάσετε τις διαμερίσεις που προκύπτουν για n_clusters$=2,...,50 Να επιλέξετε για οπτικοποίηση τις διαμερίσεις με το 1) μεγαλύτερο modularity score και 2) performance score για κάθε πραγματικό και συνθετικό δίκτυο.</p>"
   ]
  },
  {
   "cell_type": "code",
   "execution_count": null,
   "metadata": {},
   "outputs": [],
   "source": []
  },
  {
   "cell_type": "markdown",
   "metadata": {},
   "source": [
    "<h4>Εντοπισμός κοινοτήτων σε συνθετικά και πραγματικά δίκτυα με τη μέθοδο Modularity Maximization.</h4>\n",
    "Για την διαμέριση που θα προκύψει σε κάθε συνθετικό και πραγματικό δίκτυο, να υπολογίσετε το modularity score και το performance score."
   ]
  },
  {
   "cell_type": "code",
   "execution_count": null,
   "metadata": {},
   "outputs": [],
   "source": []
  },
  {
   "cell_type": "markdown",
   "metadata": {},
   "source": [
    "#### Οπτικοποίηση κοινοτήτων American College Football"
   ]
  },
  {
   "cell_type": "code",
   "execution_count": null,
   "metadata": {},
   "outputs": [],
   "source": []
  },
  {
   "cell_type": "markdown",
   "metadata": {},
   "source": [
    "#### Οπτικοποίηση κοινοτήτων Game of Thrones"
   ]
  },
  {
   "cell_type": "code",
   "execution_count": null,
   "metadata": {},
   "outputs": [],
   "source": []
  },
  {
   "cell_type": "markdown",
   "metadata": {},
   "source": [
    "#### Οπτικοποίηση κοινοτήτων email-Eu-core (να οπτικοποιηθεί και η ground-truth διαμέριση)"
   ]
  },
  {
   "cell_type": "code",
   "execution_count": null,
   "metadata": {},
   "outputs": [],
   "source": []
  },
  {
   "cell_type": "markdown",
   "metadata": {},
   "source": [
    "#### Οπτικοποίηση κοινοτήτων REG"
   ]
  },
  {
   "cell_type": "code",
   "execution_count": null,
   "metadata": {},
   "outputs": [],
   "source": []
  },
  {
   "cell_type": "markdown",
   "metadata": {},
   "source": [
    "#### Οπτικοποίηση κοινοτήτων RGER"
   ]
  },
  {
   "cell_type": "code",
   "execution_count": null,
   "metadata": {},
   "outputs": [],
   "source": []
  },
  {
   "cell_type": "markdown",
   "metadata": {},
   "source": [
    "#### Οπτικοποίηση κοινοτήτων RGG"
   ]
  },
  {
   "cell_type": "code",
   "execution_count": null,
   "metadata": {},
   "outputs": [],
   "source": []
  },
  {
   "cell_type": "markdown",
   "metadata": {},
   "source": [
    "#### Οπτικοποίηση κοινοτήτων SW"
   ]
  },
  {
   "cell_type": "code",
   "execution_count": null,
   "metadata": {},
   "outputs": [],
   "source": []
  },
  {
   "cell_type": "markdown",
   "metadata": {},
   "source": [
    "#### Οπτικοποίηση κοινοτήτων SF"
   ]
  },
  {
   "cell_type": "code",
   "execution_count": null,
   "metadata": {},
   "outputs": [],
   "source": []
  }
 ],
 "metadata": {
  "kernelspec": {
   "display_name": "Python 3",
   "language": "python",
   "name": "python3"
  },
  "language_info": {
   "codemirror_mode": {
    "name": "ipython",
    "version": 3
   },
   "file_extension": ".py",
   "mimetype": "text/x-python",
   "name": "python",
   "nbconvert_exporter": "python",
   "pygments_lexer": "ipython3",
   "version": "3.8.10"
  }
 },
 "nbformat": 4,
 "nbformat_minor": 2
}
